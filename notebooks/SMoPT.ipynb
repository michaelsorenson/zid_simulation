{
 "cells": [
  {
   "cell_type": "code",
   "execution_count": null,
   "metadata": {},
   "outputs": [],
   "source": [
    "import sys\n",
    "import os\n",
    "sys.path.append('../src')\n",
    "\n",
    "# Importing libraries\n",
    "import pandas as pd\n",
    "import numpy as np\n",
    "\n",
    "# Libraries for plotting\n",
    "import seaborn as sns\n",
    "import matplotlib.pyplot as plt\n",
    "\n",
    "# Scripts\n",
    "from run_sim import run_sim"
   ]
  },
  {
   "cell_type": "code",
   "execution_count": null,
   "metadata": {},
   "outputs": [],
   "source": [
    "%load_ext autoreload"
   ]
  },
  {
   "cell_type": "code",
   "execution_count": null,
   "metadata": {},
   "outputs": [],
   "source": [
    "%autoreload 2"
   ]
  },
  {
   "cell_type": "code",
   "execution_count": null,
   "metadata": {
    "scrolled": false
   },
   "outputs": [],
   "source": [
    "outpath = '../output/'\n",
    "rates = []\n",
    "for i in range(11):\n",
    "    print('Simulating cyclo probability for cyclo_prob = ' + str(i/10))\n",
    "    outfiles = run_sim(outpath, sim_time=300, equil_time=200, cyclo_add_time=200,\n",
    "             cyclo_prob=i/10, cyclo_dissoc_rate=0.5, logging=True)\n",
    "    codon_rates = pd.read_csv(outfiles[0], sep='\\t')\n",
    "    avg_elong_rate = 1 / np.mean(codon_rates['Avg_elong_time(sec)'])\n",
    "    rates.append(avg_elong_rate)"
   ]
  },
  {
   "cell_type": "code",
   "execution_count": null,
   "metadata": {},
   "outputs": [],
   "source": [
    "X = np.array(list(range(11))) / 10\n",
    "cyclo_data = pd.DataFrame({\"X\": X, \"Elongation Rate\": rates})\n",
    "plot = sns.lineplot(x=\"X\", y=\"Elongation Rate\", data=cyclo_data)\n",
    "fig = plot.get_figure()\n",
    "fig.savefig('../plots/Elongation_vs_CHX.png')"
   ]
  },
  {
   "cell_type": "code",
   "execution_count": null,
   "metadata": {},
   "outputs": [],
   "source": [
    "outpath = '../output/'\n",
    "rates = []\n",
    "for i in range(11):\n",
    "    print('Simulating harringtonine rate of = ' + str(i/10))\n",
    "    outfiles = run_sim(outpath + outname, sim_time=300, equil_time=200, harr_add_time=200, harr_rate=i/10)\n",
    "    codon_rates = pd.read_csv(outfiles[0], sep='\\t')\n",
    "    avg_elong_rate = 1 / np.mean(codon_rates['Avg_elong_time(sec)'])\n",
    "    rates.append(avg_elong_rate)\n"
   ]
  },
  {
   "cell_type": "code",
   "execution_count": null,
   "metadata": {},
   "outputs": [],
   "source": [
    "fig, ax = plt.subplots(1)\n",
    "ax.plot(x, rates)\n",
    "ax.set(xlabel='Harringtonine rate for free ribosomes',\n",
    "       ylabel='Rate (Codons / sec)', \n",
    "       title='Elongation rate versus harringtonine rate')\n",
    "fig.show()"
   ]
  },
  {
   "cell_type": "code",
   "execution_count": null,
   "metadata": {},
   "outputs": [],
   "source": [
    "outpath = '../output/'\n",
    "rates = []\n",
    "for i in range(0, 1001, 50):\n",
    "    print('Simulating harringtonine rate of = ' + str(i))\n",
    "    outfiles = run_sim(outpath, sim_time=300, equil_time=200, harr_add_time=200, harr_rate=i)\n",
    "    outfile = outfiles[0]\n",
    "    codon_rates = pd.read_csv(outfiles[0], sep='\\t')\n",
    "    avg_elong_rate = 1 / np.mean(codon_rates['Avg_elong_time(sec)'])\n",
    "    rates.append(avg_elong_rate)\n"
   ]
  },
  {
   "cell_type": "code",
   "execution_count": null,
   "metadata": {},
   "outputs": [],
   "source": [
    "fig, ax = plt.subplots(1)\n",
    "x = range(0, 101, 5)\n",
    "ax.plot(x, rates)\n",
    "ax.set(xlabel='Harringtonine rate for free ribosomes',\n",
    "       ylabel='Rate (Codons / sec)', \n",
    "       title='Elongation rate versus harringtonine rate')\n",
    "fig.show()"
   ]
  },
  {
   "cell_type": "code",
   "execution_count": null,
   "metadata": {},
   "outputs": [],
   "source": [
    "outpath = '../output/'\n",
    "cyclo_bind_prob = 0\n",
    "cyclo_dissoc_rate = 0\n",
    "outputs = [3, 5, 7, 8, 9]\n",
    "hrates = [0.0, 0.5, 0.9, 5, 10, 50, 100]\n",
    "for h in hrates:\n",
    "    print('Simulating cyclo probability for harringtonine rate = ' + str(h))\n",
    "    run_sims(outpath, sim_time=300, equil_time=200, cyclo_add_time=200, cyclo_prob=cyclo_bind_prob, \n",
    "             cyclo_dissoc_rate=cyclo_dissoc_rate, harr_add_time=200, harr_rate=h, outputs=outputs)"
   ]
  }
 ],
 "metadata": {
  "kernelspec": {
   "display_name": "Python 3",
   "language": "python",
   "name": "python3"
  },
  "language_info": {
   "codemirror_mode": {
    "name": "ipython",
    "version": 3
   },
   "file_extension": ".py",
   "mimetype": "text/x-python",
   "name": "python",
   "nbconvert_exporter": "python",
   "pygments_lexer": "ipython3",
   "version": "3.7.1"
  }
 },
 "nbformat": 4,
 "nbformat_minor": 2
}
