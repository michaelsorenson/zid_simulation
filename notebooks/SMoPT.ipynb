{
 "cells": [
  {
   "cell_type": "code",
   "execution_count": 17,
   "metadata": {},
   "outputs": [],
   "source": [
    "import sys\n",
    "import os\n",
    "from collections import defaultdict\n",
    "from operator import add\n",
    "sys.path.append('../src')\n",
    "\n",
    "# Importing libraries\n",
    "import pandas as pd\n",
    "import numpy as np\n",
    "import re\n",
    "import pickle\n",
    "\n",
    "# Libraries for plotting\n",
    "import seaborn as sns\n",
    "import matplotlib.pyplot as plt\n",
    "\n",
    "# Scripts\n",
    "from run_sim import run_sim"
   ]
  },
  {
   "cell_type": "code",
   "execution_count": 3,
   "metadata": {},
   "outputs": [],
   "source": [
    "%load_ext autoreload"
   ]
  },
  {
   "cell_type": "code",
   "execution_count": 4,
   "metadata": {},
   "outputs": [],
   "source": [
    "%autoreload 2"
   ]
  },
  {
   "cell_type": "code",
   "execution_count": 8,
   "metadata": {
    "collapsed": true
   },
   "outputs": [
    {
     "name": "stdout",
     "output_type": "stream",
     "text": [
      "Simulating cyclo probability for cyclo_prob = 0.0\n",
      "../SMoPT/bin/SMoPT_v2 -Tt 300 -Tb 200 -Th 1500 -Tc 200 -R 200000 -t 3300000 -N 4839 -F ../SMoPT/example/input/S.cer.flash-freeze.genom -C ../SMoPT/example/input/S.cer.tRNA -x1 0.0 -x2 0.5 -y 0 -s 1 -O ../output/cp0.0_cdr0.5_hr0.0/cp0.0_cdr0.5_hr0.0 -p1\n",
      "Running Simulation... Runtime: 362 secs\n",
      "Done\n",
      "Simulating cyclo probability for cyclo_prob = 0.05\n",
      "../SMoPT/bin/SMoPT_v2 -Tt 300 -Tb 200 -Th 1500 -Tc 200 -R 200000 -t 3300000 -N 4839 -F ../SMoPT/example/input/S.cer.flash-freeze.genom -C ../SMoPT/example/input/S.cer.tRNA -x1 0.05 -x2 0.5 -y 0 -s 1 -O ../output/cp0.05_cdr0.5_hr0.0/cp0.05_cdr0.5_hr0.0 -p1\n",
      "Running Simulation... Runtime: 292 secs\n",
      "Done\n",
      "Simulating cyclo probability for cyclo_prob = 0.1\n",
      "../SMoPT/bin/SMoPT_v2 -Tt 300 -Tb 200 -Th 1500 -Tc 200 -R 200000 -t 3300000 -N 4839 -F ../SMoPT/example/input/S.cer.flash-freeze.genom -C ../SMoPT/example/input/S.cer.tRNA -x1 0.1 -x2 0.5 -y 0 -s 1 -O ../output/cp0.1_cdr0.5_hr0.0/cp0.1_cdr0.5_hr0.0 -p1\n",
      "Running Simulation... Runtime: 273 secs\n",
      "Done\n",
      "Simulating cyclo probability for cyclo_prob = 0.15000000000000002\n",
      "../SMoPT/bin/SMoPT_v2 -Tt 300 -Tb 200 -Th 1500 -Tc 200 -R 200000 -t 3300000 -N 4839 -F ../SMoPT/example/input/S.cer.flash-freeze.genom -C ../SMoPT/example/input/S.cer.tRNA -x1 0.15000000000000002 -x2 0.5 -y 0 -s 1 -O ../output/cp0.15000000000000002_cdr0.5_hr0.0/cp0.15000000000000002_cdr0.5_hr0.0 -p1\n",
      "Running Simulation... Runtime: 267 secs\n",
      "Done\n",
      "Simulating cyclo probability for cyclo_prob = 0.2\n",
      "../SMoPT/bin/SMoPT_v2 -Tt 300 -Tb 200 -Th 1500 -Tc 200 -R 200000 -t 3300000 -N 4839 -F ../SMoPT/example/input/S.cer.flash-freeze.genom -C ../SMoPT/example/input/S.cer.tRNA -x1 0.2 -x2 0.5 -y 0 -s 1 -O ../output/cp0.2_cdr0.5_hr0.0/cp0.2_cdr0.5_hr0.0 -p1\n",
      "Running Simulation... Runtime: 266 secs\n",
      "Done\n",
      "Simulating cyclo probability for cyclo_prob = 0.25\n",
      "../SMoPT/bin/SMoPT_v2 -Tt 300 -Tb 200 -Th 1500 -Tc 200 -R 200000 -t 3300000 -N 4839 -F ../SMoPT/example/input/S.cer.flash-freeze.genom -C ../SMoPT/example/input/S.cer.tRNA -x1 0.25 -x2 0.5 -y 0 -s 1 -O ../output/cp0.25_cdr0.5_hr0.0/cp0.25_cdr0.5_hr0.0 -p1\n",
      "Running Simulation... Runtime: 255 secs\n",
      "Done\n",
      "Simulating cyclo probability for cyclo_prob = 0.30000000000000004\n",
      "../SMoPT/bin/SMoPT_v2 -Tt 300 -Tb 200 -Th 1500 -Tc 200 -R 200000 -t 3300000 -N 4839 -F ../SMoPT/example/input/S.cer.flash-freeze.genom -C ../SMoPT/example/input/S.cer.tRNA -x1 0.30000000000000004 -x2 0.5 -y 0 -s 1 -O ../output/cp0.30000000000000004_cdr0.5_hr0.0/cp0.30000000000000004_cdr0.5_hr0.0 -p1\n",
      "Running Simulation... Runtime: 267 secs\n",
      "Done\n",
      "Simulating cyclo probability for cyclo_prob = 0.35000000000000003\n",
      "../SMoPT/bin/SMoPT_v2 -Tt 300 -Tb 200 -Th 1500 -Tc 200 -R 200000 -t 3300000 -N 4839 -F ../SMoPT/example/input/S.cer.flash-freeze.genom -C ../SMoPT/example/input/S.cer.tRNA -x1 0.35000000000000003 -x2 0.5 -y 0 -s 1 -O ../output/cp0.35000000000000003_cdr0.5_hr0.0/cp0.35000000000000003_cdr0.5_hr0.0 -p1\n",
      "Running Simulation... Runtime: 270 secs\n",
      "Done\n",
      "Simulating cyclo probability for cyclo_prob = 0.4\n",
      "../SMoPT/bin/SMoPT_v2 -Tt 300 -Tb 200 -Th 1500 -Tc 200 -R 200000 -t 3300000 -N 4839 -F ../SMoPT/example/input/S.cer.flash-freeze.genom -C ../SMoPT/example/input/S.cer.tRNA -x1 0.4 -x2 0.5 -y 0 -s 1 -O ../output/cp0.4_cdr0.5_hr0.0/cp0.4_cdr0.5_hr0.0 -p1\n",
      "Running Simulation... Runtime: 285 secs\n",
      "Done\n",
      "Simulating cyclo probability for cyclo_prob = 0.45\n",
      "../SMoPT/bin/SMoPT_v2 -Tt 300 -Tb 200 -Th 1500 -Tc 200 -R 200000 -t 3300000 -N 4839 -F ../SMoPT/example/input/S.cer.flash-freeze.genom -C ../SMoPT/example/input/S.cer.tRNA -x1 0.45 -x2 0.5 -y 0 -s 1 -O ../output/cp0.45_cdr0.5_hr0.0/cp0.45_cdr0.5_hr0.0 -p1\n",
      "Running Simulation... Runtime: 256 secs\n",
      "Done\n",
      "Simulating cyclo probability for cyclo_prob = 0.5\n",
      "../SMoPT/bin/SMoPT_v2 -Tt 300 -Tb 200 -Th 1500 -Tc 200 -R 200000 -t 3300000 -N 4839 -F ../SMoPT/example/input/S.cer.flash-freeze.genom -C ../SMoPT/example/input/S.cer.tRNA -x1 0.5 -x2 0.5 -y 0 -s 1 -O ../output/cp0.5_cdr0.5_hr0.0/cp0.5_cdr0.5_hr0.0 -p1\n",
      "Running Simulation... Runtime: 259 secs\n",
      "Done\n",
      "Simulating cyclo probability for cyclo_prob = 0.55\n",
      "../SMoPT/bin/SMoPT_v2 -Tt 300 -Tb 200 -Th 1500 -Tc 200 -R 200000 -t 3300000 -N 4839 -F ../SMoPT/example/input/S.cer.flash-freeze.genom -C ../SMoPT/example/input/S.cer.tRNA -x1 0.55 -x2 0.5 -y 0 -s 1 -O ../output/cp0.55_cdr0.5_hr0.0/cp0.55_cdr0.5_hr0.0 -p1\n",
      "Running Simulation... Runtime: 258 secs\n",
      "Done\n",
      "Simulating cyclo probability for cyclo_prob = 0.6000000000000001\n",
      "../SMoPT/bin/SMoPT_v2 -Tt 300 -Tb 200 -Th 1500 -Tc 200 -R 200000 -t 3300000 -N 4839 -F ../SMoPT/example/input/S.cer.flash-freeze.genom -C ../SMoPT/example/input/S.cer.tRNA -x1 0.6000000000000001 -x2 0.5 -y 0 -s 1 -O ../output/cp0.6000000000000001_cdr0.5_hr0.0/cp0.6000000000000001_cdr0.5_hr0.0 -p1\n",
      "Running Simulation... Runtime: 239 secs\n",
      "Done\n",
      "Simulating cyclo probability for cyclo_prob = 0.65\n",
      "../SMoPT/bin/SMoPT_v2 -Tt 300 -Tb 200 -Th 1500 -Tc 200 -R 200000 -t 3300000 -N 4839 -F ../SMoPT/example/input/S.cer.flash-freeze.genom -C ../SMoPT/example/input/S.cer.tRNA -x1 0.65 -x2 0.5 -y 0 -s 1 -O ../output/cp0.65_cdr0.5_hr0.0/cp0.65_cdr0.5_hr0.0 -p1\n",
      "Running Simulation... Runtime: 256 secs\n",
      "Done\n",
      "Simulating cyclo probability for cyclo_prob = 0.7000000000000001\n",
      "../SMoPT/bin/SMoPT_v2 -Tt 300 -Tb 200 -Th 1500 -Tc 200 -R 200000 -t 3300000 -N 4839 -F ../SMoPT/example/input/S.cer.flash-freeze.genom -C ../SMoPT/example/input/S.cer.tRNA -x1 0.7000000000000001 -x2 0.5 -y 0 -s 1 -O ../output/cp0.7000000000000001_cdr0.5_hr0.0/cp0.7000000000000001_cdr0.5_hr0.0 -p1\n",
      "Running Simulation... Runtime: 251 secs\n",
      "Done\n",
      "Simulating cyclo probability for cyclo_prob = 0.75\n",
      "../SMoPT/bin/SMoPT_v2 -Tt 300 -Tb 200 -Th 1500 -Tc 200 -R 200000 -t 3300000 -N 4839 -F ../SMoPT/example/input/S.cer.flash-freeze.genom -C ../SMoPT/example/input/S.cer.tRNA -x1 0.75 -x2 0.5 -y 0 -s 1 -O ../output/cp0.75_cdr0.5_hr0.0/cp0.75_cdr0.5_hr0.0 -p1\n",
      "Running Simulation... Runtime: 242 secs\n",
      "Done\n",
      "Simulating cyclo probability for cyclo_prob = 0.8\n",
      "../SMoPT/bin/SMoPT_v2 -Tt 300 -Tb 200 -Th 1500 -Tc 200 -R 200000 -t 3300000 -N 4839 -F ../SMoPT/example/input/S.cer.flash-freeze.genom -C ../SMoPT/example/input/S.cer.tRNA -x1 0.8 -x2 0.5 -y 0 -s 1 -O ../output/cp0.8_cdr0.5_hr0.0/cp0.8_cdr0.5_hr0.0 -p1\n",
      "Running Simulation... Runtime: 270 secs\n",
      "Done\n",
      "Simulating cyclo probability for cyclo_prob = 0.8500000000000001\n",
      "../SMoPT/bin/SMoPT_v2 -Tt 300 -Tb 200 -Th 1500 -Tc 200 -R 200000 -t 3300000 -N 4839 -F ../SMoPT/example/input/S.cer.flash-freeze.genom -C ../SMoPT/example/input/S.cer.tRNA -x1 0.8500000000000001 -x2 0.5 -y 0 -s 1 -O ../output/cp0.8500000000000001_cdr0.5_hr0.0/cp0.8500000000000001_cdr0.5_hr0.0 -p1\n",
      "Running Simulation... Runtime: 262 secs\n",
      "Done\n",
      "Simulating cyclo probability for cyclo_prob = 0.9\n",
      "../SMoPT/bin/SMoPT_v2 -Tt 300 -Tb 200 -Th 1500 -Tc 200 -R 200000 -t 3300000 -N 4839 -F ../SMoPT/example/input/S.cer.flash-freeze.genom -C ../SMoPT/example/input/S.cer.tRNA -x1 0.9 -x2 0.5 -y 0 -s 1 -O ../output/cp0.9_cdr0.5_hr0.0/cp0.9_cdr0.5_hr0.0 -p1\n",
      "Running Simulation... Runtime: 252 secs\n",
      "Done\n",
      "Simulating cyclo probability for cyclo_prob = 0.9500000000000001\n",
      "../SMoPT/bin/SMoPT_v2 -Tt 300 -Tb 200 -Th 1500 -Tc 200 -R 200000 -t 3300000 -N 4839 -F ../SMoPT/example/input/S.cer.flash-freeze.genom -C ../SMoPT/example/input/S.cer.tRNA -x1 0.9500000000000001 -x2 0.5 -y 0 -s 1 -O ../output/cp0.9500000000000001_cdr0.5_hr0.0/cp0.9500000000000001_cdr0.5_hr0.0 -p1\n",
      "Running Simulation... Runtime: 254 secs\n",
      "Done\n",
      "Simulating cyclo probability for cyclo_prob = 1.0\n",
      "../SMoPT/bin/SMoPT_v2 -Tt 300 -Tb 200 -Th 1500 -Tc 200 -R 200000 -t 3300000 -N 4839 -F ../SMoPT/example/input/S.cer.flash-freeze.genom -C ../SMoPT/example/input/S.cer.tRNA -x1 1.0 -x2 0.5 -y 0 -s 1 -O ../output/cp1.0_cdr0.5_hr0.0/cp1.0_cdr0.5_hr0.0 -p1\n",
      "Running Simulation... Runtime: 250 secs\n",
      "Done\n",
      "Simulating cyclo probability for cyclo_prob = 0.0\n",
      "../SMoPT/bin/SMoPT_v2 -Tt 300 -Tb 200 -Th 1500 -Tc 200 -R 200000 -t 3300000 -N 4839 -F ../SMoPT/example/input/S.cer.flash-freeze.genom -C ../SMoPT/example/input/S.cer.tRNA -x1 0.0 -x2 0.5 -y 0 -s 1 -O ../output/cp0.0_cdr0.5_hr0.0/cp0.0_cdr0.5_hr0.0 -p1\n",
      "Running Simulation... Runtime: 368 secs\n",
      "Done\n",
      "Simulating cyclo probability for cyclo_prob = 0.05\n",
      "../SMoPT/bin/SMoPT_v2 -Tt 300 -Tb 200 -Th 1500 -Tc 200 -R 200000 -t 3300000 -N 4839 -F ../SMoPT/example/input/S.cer.flash-freeze.genom -C ../SMoPT/example/input/S.cer.tRNA -x1 0.05 -x2 0.5 -y 0 -s 1 -O ../output/cp0.05_cdr0.5_hr0.0/cp0.05_cdr0.5_hr0.0 -p1\n"
     ]
    },
    {
     "name": "stdout",
     "output_type": "stream",
     "text": [
      "Running Simulation... Runtime: 298 secs\n",
      "Done\n",
      "Simulating cyclo probability for cyclo_prob = 0.1\n",
      "../SMoPT/bin/SMoPT_v2 -Tt 300 -Tb 200 -Th 1500 -Tc 200 -R 200000 -t 3300000 -N 4839 -F ../SMoPT/example/input/S.cer.flash-freeze.genom -C ../SMoPT/example/input/S.cer.tRNA -x1 0.1 -x2 0.5 -y 0 -s 1 -O ../output/cp0.1_cdr0.5_hr0.0/cp0.1_cdr0.5_hr0.0 -p1\n",
      "Running Simulation... Runtime: 288 secs\n",
      "Done\n",
      "Simulating cyclo probability for cyclo_prob = 0.15000000000000002\n",
      "../SMoPT/bin/SMoPT_v2 -Tt 300 -Tb 200 -Th 1500 -Tc 200 -R 200000 -t 3300000 -N 4839 -F ../SMoPT/example/input/S.cer.flash-freeze.genom -C ../SMoPT/example/input/S.cer.tRNA -x1 0.15000000000000002 -x2 0.5 -y 0 -s 1 -O ../output/cp0.15000000000000002_cdr0.5_hr0.0/cp0.15000000000000002_cdr0.5_hr0.0 -p1\n",
      "Running Simulation... Runtime: 322 secs\n",
      "Done\n",
      "Simulating cyclo probability for cyclo_prob = 0.2\n",
      "../SMoPT/bin/SMoPT_v2 -Tt 300 -Tb 200 -Th 1500 -Tc 200 -R 200000 -t 3300000 -N 4839 -F ../SMoPT/example/input/S.cer.flash-freeze.genom -C ../SMoPT/example/input/S.cer.tRNA -x1 0.2 -x2 0.5 -y 0 -s 1 -O ../output/cp0.2_cdr0.5_hr0.0/cp0.2_cdr0.5_hr0.0 -p1\n",
      "Running Simulation... Runtime: 331 secs\n",
      "Done\n",
      "Simulating cyclo probability for cyclo_prob = 0.25\n",
      "../SMoPT/bin/SMoPT_v2 -Tt 300 -Tb 200 -Th 1500 -Tc 200 -R 200000 -t 3300000 -N 4839 -F ../SMoPT/example/input/S.cer.flash-freeze.genom -C ../SMoPT/example/input/S.cer.tRNA -x1 0.25 -x2 0.5 -y 0 -s 1 -O ../output/cp0.25_cdr0.5_hr0.0/cp0.25_cdr0.5_hr0.0 -p1\n",
      "Running Simulation... Runtime: 298 secs\n",
      "Done\n",
      "Simulating cyclo probability for cyclo_prob = 0.30000000000000004\n",
      "../SMoPT/bin/SMoPT_v2 -Tt 300 -Tb 200 -Th 1500 -Tc 200 -R 200000 -t 3300000 -N 4839 -F ../SMoPT/example/input/S.cer.flash-freeze.genom -C ../SMoPT/example/input/S.cer.tRNA -x1 0.30000000000000004 -x2 0.5 -y 0 -s 1 -O ../output/cp0.30000000000000004_cdr0.5_hr0.0/cp0.30000000000000004_cdr0.5_hr0.0 -p1\n",
      "Running Simulation... Runtime: 307 secs\n",
      "Done\n",
      "Simulating cyclo probability for cyclo_prob = 0.35000000000000003\n",
      "../SMoPT/bin/SMoPT_v2 -Tt 300 -Tb 200 -Th 1500 -Tc 200 -R 200000 -t 3300000 -N 4839 -F ../SMoPT/example/input/S.cer.flash-freeze.genom -C ../SMoPT/example/input/S.cer.tRNA -x1 0.35000000000000003 -x2 0.5 -y 0 -s 1 -O ../output/cp0.35000000000000003_cdr0.5_hr0.0/cp0.35000000000000003_cdr0.5_hr0.0 -p1\n",
      "Running Simulation... Runtime: 301 secs\n",
      "Done\n",
      "Simulating cyclo probability for cyclo_prob = 0.4\n",
      "../SMoPT/bin/SMoPT_v2 -Tt 300 -Tb 200 -Th 1500 -Tc 200 -R 200000 -t 3300000 -N 4839 -F ../SMoPT/example/input/S.cer.flash-freeze.genom -C ../SMoPT/example/input/S.cer.tRNA -x1 0.4 -x2 0.5 -y 0 -s 1 -O ../output/cp0.4_cdr0.5_hr0.0/cp0.4_cdr0.5_hr0.0 -p1\n",
      "Running Simulation... Runtime: 260 secs\n",
      "Done\n",
      "Simulating cyclo probability for cyclo_prob = 0.45\n",
      "../SMoPT/bin/SMoPT_v2 -Tt 300 -Tb 200 -Th 1500 -Tc 200 -R 200000 -t 3300000 -N 4839 -F ../SMoPT/example/input/S.cer.flash-freeze.genom -C ../SMoPT/example/input/S.cer.tRNA -x1 0.45 -x2 0.5 -y 0 -s 1 -O ../output/cp0.45_cdr0.5_hr0.0/cp0.45_cdr0.5_hr0.0 -p1\n",
      "Running Simulation... Runtime: 284 secs\n",
      "Done\n",
      "Simulating cyclo probability for cyclo_prob = 0.5\n",
      "../SMoPT/bin/SMoPT_v2 -Tt 300 -Tb 200 -Th 1500 -Tc 200 -R 200000 -t 3300000 -N 4839 -F ../SMoPT/example/input/S.cer.flash-freeze.genom -C ../SMoPT/example/input/S.cer.tRNA -x1 0.5 -x2 0.5 -y 0 -s 1 -O ../output/cp0.5_cdr0.5_hr0.0/cp0.5_cdr0.5_hr0.0 -p1\n",
      "Running Simulation... Runtime: 285 secs\n",
      "Done\n",
      "Simulating cyclo probability for cyclo_prob = 0.55\n",
      "../SMoPT/bin/SMoPT_v2 -Tt 300 -Tb 200 -Th 1500 -Tc 200 -R 200000 -t 3300000 -N 4839 -F ../SMoPT/example/input/S.cer.flash-freeze.genom -C ../SMoPT/example/input/S.cer.tRNA -x1 0.55 -x2 0.5 -y 0 -s 1 -O ../output/cp0.55_cdr0.5_hr0.0/cp0.55_cdr0.5_hr0.0 -p1\n",
      "Running Simulation... Runtime: 270 secs\n",
      "Done\n",
      "Simulating cyclo probability for cyclo_prob = 0.6000000000000001\n",
      "../SMoPT/bin/SMoPT_v2 -Tt 300 -Tb 200 -Th 1500 -Tc 200 -R 200000 -t 3300000 -N 4839 -F ../SMoPT/example/input/S.cer.flash-freeze.genom -C ../SMoPT/example/input/S.cer.tRNA -x1 0.6000000000000001 -x2 0.5 -y 0 -s 1 -O ../output/cp0.6000000000000001_cdr0.5_hr0.0/cp0.6000000000000001_cdr0.5_hr0.0 -p1\n",
      "Running Simulation... Runtime: 271 secs\n",
      "Done\n",
      "Simulating cyclo probability for cyclo_prob = 0.65\n",
      "../SMoPT/bin/SMoPT_v2 -Tt 300 -Tb 200 -Th 1500 -Tc 200 -R 200000 -t 3300000 -N 4839 -F ../SMoPT/example/input/S.cer.flash-freeze.genom -C ../SMoPT/example/input/S.cer.tRNA -x1 0.65 -x2 0.5 -y 0 -s 1 -O ../output/cp0.65_cdr0.5_hr0.0/cp0.65_cdr0.5_hr0.0 -p1\n",
      "Running Simulation... Runtime: 293 secs\n",
      "Done\n",
      "Simulating cyclo probability for cyclo_prob = 0.7000000000000001\n",
      "../SMoPT/bin/SMoPT_v2 -Tt 300 -Tb 200 -Th 1500 -Tc 200 -R 200000 -t 3300000 -N 4839 -F ../SMoPT/example/input/S.cer.flash-freeze.genom -C ../SMoPT/example/input/S.cer.tRNA -x1 0.7000000000000001 -x2 0.5 -y 0 -s 1 -O ../output/cp0.7000000000000001_cdr0.5_hr0.0/cp0.7000000000000001_cdr0.5_hr0.0 -p1\n",
      "Running Simulation... Runtime: 277 secs\n",
      "Done\n",
      "Simulating cyclo probability for cyclo_prob = 0.75\n",
      "../SMoPT/bin/SMoPT_v2 -Tt 300 -Tb 200 -Th 1500 -Tc 200 -R 200000 -t 3300000 -N 4839 -F ../SMoPT/example/input/S.cer.flash-freeze.genom -C ../SMoPT/example/input/S.cer.tRNA -x1 0.75 -x2 0.5 -y 0 -s 1 -O ../output/cp0.75_cdr0.5_hr0.0/cp0.75_cdr0.5_hr0.0 -p1\n",
      "Running Simulation... Runtime: 297 secs\n",
      "Done\n",
      "Simulating cyclo probability for cyclo_prob = 0.8\n",
      "../SMoPT/bin/SMoPT_v2 -Tt 300 -Tb 200 -Th 1500 -Tc 200 -R 200000 -t 3300000 -N 4839 -F ../SMoPT/example/input/S.cer.flash-freeze.genom -C ../SMoPT/example/input/S.cer.tRNA -x1 0.8 -x2 0.5 -y 0 -s 1 -O ../output/cp0.8_cdr0.5_hr0.0/cp0.8_cdr0.5_hr0.0 -p1\n",
      "Running Simulation... Runtime: 288 secs\n",
      "Done\n",
      "Simulating cyclo probability for cyclo_prob = 0.8500000000000001\n",
      "../SMoPT/bin/SMoPT_v2 -Tt 300 -Tb 200 -Th 1500 -Tc 200 -R 200000 -t 3300000 -N 4839 -F ../SMoPT/example/input/S.cer.flash-freeze.genom -C ../SMoPT/example/input/S.cer.tRNA -x1 0.8500000000000001 -x2 0.5 -y 0 -s 1 -O ../output/cp0.8500000000000001_cdr0.5_hr0.0/cp0.8500000000000001_cdr0.5_hr0.0 -p1\n",
      "Running Simulation... Runtime: 285 secs\n",
      "Done\n",
      "Simulating cyclo probability for cyclo_prob = 0.9\n",
      "../SMoPT/bin/SMoPT_v2 -Tt 300 -Tb 200 -Th 1500 -Tc 200 -R 200000 -t 3300000 -N 4839 -F ../SMoPT/example/input/S.cer.flash-freeze.genom -C ../SMoPT/example/input/S.cer.tRNA -x1 0.9 -x2 0.5 -y 0 -s 1 -O ../output/cp0.9_cdr0.5_hr0.0/cp0.9_cdr0.5_hr0.0 -p1\n",
      "Running Simulation... Runtime: 289 secs\n",
      "Done\n",
      "Simulating cyclo probability for cyclo_prob = 0.9500000000000001\n",
      "../SMoPT/bin/SMoPT_v2 -Tt 300 -Tb 200 -Th 1500 -Tc 200 -R 200000 -t 3300000 -N 4839 -F ../SMoPT/example/input/S.cer.flash-freeze.genom -C ../SMoPT/example/input/S.cer.tRNA -x1 0.9500000000000001 -x2 0.5 -y 0 -s 1 -O ../output/cp0.9500000000000001_cdr0.5_hr0.0/cp0.9500000000000001_cdr0.5_hr0.0 -p1\n",
      "Running Simulation... Runtime: 270 secs\n",
      "Done\n",
      "Simulating cyclo probability for cyclo_prob = 1.0\n",
      "../SMoPT/bin/SMoPT_v2 -Tt 300 -Tb 200 -Th 1500 -Tc 200 -R 200000 -t 3300000 -N 4839 -F ../SMoPT/example/input/S.cer.flash-freeze.genom -C ../SMoPT/example/input/S.cer.tRNA -x1 1.0 -x2 0.5 -y 0 -s 1 -O ../output/cp1.0_cdr0.5_hr0.0/cp1.0_cdr0.5_hr0.0 -p1\n",
      "Running Simulation... Runtime: 262 secs\n",
      "Done\n",
      "Simulating cyclo probability for cyclo_prob = 0.0\n",
      "../SMoPT/bin/SMoPT_v2 -Tt 300 -Tb 200 -Th 1500 -Tc 200 -R 200000 -t 3300000 -N 4839 -F ../SMoPT/example/input/S.cer.flash-freeze.genom -C ../SMoPT/example/input/S.cer.tRNA -x1 0.0 -x2 0.5 -y 0 -s 1 -O ../output/cp0.0_cdr0.5_hr0.0/cp0.0_cdr0.5_hr0.0 -p1\n",
      "Running Simulation... Runtime: 373 secs\n",
      "Done\n",
      "Simulating cyclo probability for cyclo_prob = 0.05\n",
      "../SMoPT/bin/SMoPT_v2 -Tt 300 -Tb 200 -Th 1500 -Tc 200 -R 200000 -t 3300000 -N 4839 -F ../SMoPT/example/input/S.cer.flash-freeze.genom -C ../SMoPT/example/input/S.cer.tRNA -x1 0.05 -x2 0.5 -y 0 -s 1 -O ../output/cp0.05_cdr0.5_hr0.0/cp0.05_cdr0.5_hr0.0 -p1\n",
      "Running Simulation... Runtime: 361 secs\n",
      "Done\n",
      "Simulating cyclo probability for cyclo_prob = 0.1\n",
      "../SMoPT/bin/SMoPT_v2 -Tt 300 -Tb 200 -Th 1500 -Tc 200 -R 200000 -t 3300000 -N 4839 -F ../SMoPT/example/input/S.cer.flash-freeze.genom -C ../SMoPT/example/input/S.cer.tRNA -x1 0.1 -x2 0.5 -y 0 -s 1 -O ../output/cp0.1_cdr0.5_hr0.0/cp0.1_cdr0.5_hr0.0 -p1\n",
      "Running Simulation... Runtime: 317 secs\n",
      "Done\n",
      "Simulating cyclo probability for cyclo_prob = 0.15000000000000002\n",
      "../SMoPT/bin/SMoPT_v2 -Tt 300 -Tb 200 -Th 1500 -Tc 200 -R 200000 -t 3300000 -N 4839 -F ../SMoPT/example/input/S.cer.flash-freeze.genom -C ../SMoPT/example/input/S.cer.tRNA -x1 0.15000000000000002 -x2 0.5 -y 0 -s 1 -O ../output/cp0.15000000000000002_cdr0.5_hr0.0/cp0.15000000000000002_cdr0.5_hr0.0 -p1\n"
     ]
    },
    {
     "name": "stdout",
     "output_type": "stream",
     "text": [
      "Running Simulation... Runtime: 327 secs\n",
      "Done\n",
      "Simulating cyclo probability for cyclo_prob = 0.2\n",
      "../SMoPT/bin/SMoPT_v2 -Tt 300 -Tb 200 -Th 1500 -Tc 200 -R 200000 -t 3300000 -N 4839 -F ../SMoPT/example/input/S.cer.flash-freeze.genom -C ../SMoPT/example/input/S.cer.tRNA -x1 0.2 -x2 0.5 -y 0 -s 1 -O ../output/cp0.2_cdr0.5_hr0.0/cp0.2_cdr0.5_hr0.0 -p1\n",
      "Running Simulation... Runtime: 324 secs\n",
      "Done\n",
      "Simulating cyclo probability for cyclo_prob = 0.25\n",
      "../SMoPT/bin/SMoPT_v2 -Tt 300 -Tb 200 -Th 1500 -Tc 200 -R 200000 -t 3300000 -N 4839 -F ../SMoPT/example/input/S.cer.flash-freeze.genom -C ../SMoPT/example/input/S.cer.tRNA -x1 0.25 -x2 0.5 -y 0 -s 1 -O ../output/cp0.25_cdr0.5_hr0.0/cp0.25_cdr0.5_hr0.0 -p1\n",
      "Running Simulation... Runtime: 312 secs\n",
      "Done\n",
      "Simulating cyclo probability for cyclo_prob = 0.30000000000000004\n",
      "../SMoPT/bin/SMoPT_v2 -Tt 300 -Tb 200 -Th 1500 -Tc 200 -R 200000 -t 3300000 -N 4839 -F ../SMoPT/example/input/S.cer.flash-freeze.genom -C ../SMoPT/example/input/S.cer.tRNA -x1 0.30000000000000004 -x2 0.5 -y 0 -s 1 -O ../output/cp0.30000000000000004_cdr0.5_hr0.0/cp0.30000000000000004_cdr0.5_hr0.0 -p1\n",
      "Running Simulation... Runtime: 303 secs\n",
      "Done\n",
      "Simulating cyclo probability for cyclo_prob = 0.35000000000000003\n",
      "../SMoPT/bin/SMoPT_v2 -Tt 300 -Tb 200 -Th 1500 -Tc 200 -R 200000 -t 3300000 -N 4839 -F ../SMoPT/example/input/S.cer.flash-freeze.genom -C ../SMoPT/example/input/S.cer.tRNA -x1 0.35000000000000003 -x2 0.5 -y 0 -s 1 -O ../output/cp0.35000000000000003_cdr0.5_hr0.0/cp0.35000000000000003_cdr0.5_hr0.0 -p1\n",
      "Running Simulation... Runtime: 303 secs\n",
      "Done\n",
      "Simulating cyclo probability for cyclo_prob = 0.4\n",
      "../SMoPT/bin/SMoPT_v2 -Tt 300 -Tb 200 -Th 1500 -Tc 200 -R 200000 -t 3300000 -N 4839 -F ../SMoPT/example/input/S.cer.flash-freeze.genom -C ../SMoPT/example/input/S.cer.tRNA -x1 0.4 -x2 0.5 -y 0 -s 1 -O ../output/cp0.4_cdr0.5_hr0.0/cp0.4_cdr0.5_hr0.0 -p1\n",
      "Running Simulation... Runtime: 287 secs\n",
      "Done\n",
      "Simulating cyclo probability for cyclo_prob = 0.45\n",
      "../SMoPT/bin/SMoPT_v2 -Tt 300 -Tb 200 -Th 1500 -Tc 200 -R 200000 -t 3300000 -N 4839 -F ../SMoPT/example/input/S.cer.flash-freeze.genom -C ../SMoPT/example/input/S.cer.tRNA -x1 0.45 -x2 0.5 -y 0 -s 1 -O ../output/cp0.45_cdr0.5_hr0.0/cp0.45_cdr0.5_hr0.0 -p1\n",
      "Running Simulation... Runtime: 269 secs\n",
      "Done\n",
      "Simulating cyclo probability for cyclo_prob = 0.5\n",
      "../SMoPT/bin/SMoPT_v2 -Tt 300 -Tb 200 -Th 1500 -Tc 200 -R 200000 -t 3300000 -N 4839 -F ../SMoPT/example/input/S.cer.flash-freeze.genom -C ../SMoPT/example/input/S.cer.tRNA -x1 0.5 -x2 0.5 -y 0 -s 1 -O ../output/cp0.5_cdr0.5_hr0.0/cp0.5_cdr0.5_hr0.0 -p1\n",
      "Running Simulation... Runtime: 249 secs\n",
      "Done\n",
      "Simulating cyclo probability for cyclo_prob = 0.55\n",
      "../SMoPT/bin/SMoPT_v2 -Tt 300 -Tb 200 -Th 1500 -Tc 200 -R 200000 -t 3300000 -N 4839 -F ../SMoPT/example/input/S.cer.flash-freeze.genom -C ../SMoPT/example/input/S.cer.tRNA -x1 0.55 -x2 0.5 -y 0 -s 1 -O ../output/cp0.55_cdr0.5_hr0.0/cp0.55_cdr0.5_hr0.0 -p1\n",
      "Running Simulation... Runtime: 255 secs\n",
      "Done\n",
      "Simulating cyclo probability for cyclo_prob = 0.6000000000000001\n",
      "../SMoPT/bin/SMoPT_v2 -Tt 300 -Tb 200 -Th 1500 -Tc 200 -R 200000 -t 3300000 -N 4839 -F ../SMoPT/example/input/S.cer.flash-freeze.genom -C ../SMoPT/example/input/S.cer.tRNA -x1 0.6000000000000001 -x2 0.5 -y 0 -s 1 -O ../output/cp0.6000000000000001_cdr0.5_hr0.0/cp0.6000000000000001_cdr0.5_hr0.0 -p1\n",
      "Running Simulation... Runtime: 243 secs\n",
      "Done\n",
      "Simulating cyclo probability for cyclo_prob = 0.65\n",
      "../SMoPT/bin/SMoPT_v2 -Tt 300 -Tb 200 -Th 1500 -Tc 200 -R 200000 -t 3300000 -N 4839 -F ../SMoPT/example/input/S.cer.flash-freeze.genom -C ../SMoPT/example/input/S.cer.tRNA -x1 0.65 -x2 0.5 -y 0 -s 1 -O ../output/cp0.65_cdr0.5_hr0.0/cp0.65_cdr0.5_hr0.0 -p1\n",
      "Running Simulation... Runtime: 243 secs\n",
      "Done\n",
      "Simulating cyclo probability for cyclo_prob = 0.7000000000000001\n",
      "../SMoPT/bin/SMoPT_v2 -Tt 300 -Tb 200 -Th 1500 -Tc 200 -R 200000 -t 3300000 -N 4839 -F ../SMoPT/example/input/S.cer.flash-freeze.genom -C ../SMoPT/example/input/S.cer.tRNA -x1 0.7000000000000001 -x2 0.5 -y 0 -s 1 -O ../output/cp0.7000000000000001_cdr0.5_hr0.0/cp0.7000000000000001_cdr0.5_hr0.0 -p1\n",
      "Running Simulation... Runtime: 243 secs\n",
      "Done\n",
      "Simulating cyclo probability for cyclo_prob = 0.75\n",
      "../SMoPT/bin/SMoPT_v2 -Tt 300 -Tb 200 -Th 1500 -Tc 200 -R 200000 -t 3300000 -N 4839 -F ../SMoPT/example/input/S.cer.flash-freeze.genom -C ../SMoPT/example/input/S.cer.tRNA -x1 0.75 -x2 0.5 -y 0 -s 1 -O ../output/cp0.75_cdr0.5_hr0.0/cp0.75_cdr0.5_hr0.0 -p1\n",
      "Running Simulation... Runtime: 242 secs\n",
      "Done\n",
      "Simulating cyclo probability for cyclo_prob = 0.8\n",
      "../SMoPT/bin/SMoPT_v2 -Tt 300 -Tb 200 -Th 1500 -Tc 200 -R 200000 -t 3300000 -N 4839 -F ../SMoPT/example/input/S.cer.flash-freeze.genom -C ../SMoPT/example/input/S.cer.tRNA -x1 0.8 -x2 0.5 -y 0 -s 1 -O ../output/cp0.8_cdr0.5_hr0.0/cp0.8_cdr0.5_hr0.0 -p1\n",
      "Running Simulation... Runtime: 236 secs\n",
      "Done\n",
      "Simulating cyclo probability for cyclo_prob = 0.8500000000000001\n",
      "../SMoPT/bin/SMoPT_v2 -Tt 300 -Tb 200 -Th 1500 -Tc 200 -R 200000 -t 3300000 -N 4839 -F ../SMoPT/example/input/S.cer.flash-freeze.genom -C ../SMoPT/example/input/S.cer.tRNA -x1 0.8500000000000001 -x2 0.5 -y 0 -s 1 -O ../output/cp0.8500000000000001_cdr0.5_hr0.0/cp0.8500000000000001_cdr0.5_hr0.0 -p1\n",
      "Running Simulation... Runtime: 240 secs\n",
      "Done\n",
      "Simulating cyclo probability for cyclo_prob = 0.9\n",
      "../SMoPT/bin/SMoPT_v2 -Tt 300 -Tb 200 -Th 1500 -Tc 200 -R 200000 -t 3300000 -N 4839 -F ../SMoPT/example/input/S.cer.flash-freeze.genom -C ../SMoPT/example/input/S.cer.tRNA -x1 0.9 -x2 0.5 -y 0 -s 1 -O ../output/cp0.9_cdr0.5_hr0.0/cp0.9_cdr0.5_hr0.0 -p1\n",
      "Running Simulation... Runtime: 257 secs\n",
      "Done\n",
      "Simulating cyclo probability for cyclo_prob = 0.9500000000000001\n",
      "../SMoPT/bin/SMoPT_v2 -Tt 300 -Tb 200 -Th 1500 -Tc 200 -R 200000 -t 3300000 -N 4839 -F ../SMoPT/example/input/S.cer.flash-freeze.genom -C ../SMoPT/example/input/S.cer.tRNA -x1 0.9500000000000001 -x2 0.5 -y 0 -s 1 -O ../output/cp0.9500000000000001_cdr0.5_hr0.0/cp0.9500000000000001_cdr0.5_hr0.0 -p1\n",
      "Running Simulation... Runtime: 278 secs\n",
      "Done\n",
      "Simulating cyclo probability for cyclo_prob = 1.0\n",
      "../SMoPT/bin/SMoPT_v2 -Tt 300 -Tb 200 -Th 1500 -Tc 200 -R 200000 -t 3300000 -N 4839 -F ../SMoPT/example/input/S.cer.flash-freeze.genom -C ../SMoPT/example/input/S.cer.tRNA -x1 1.0 -x2 0.5 -y 0 -s 1 -O ../output/cp1.0_cdr0.5_hr0.0/cp1.0_cdr0.5_hr0.0 -p1\n",
      "Running Simulation... Runtime: 322 secs\n",
      "Done\n",
      "Simulating cyclo probability for cyclo_prob = 0.0\n",
      "../SMoPT/bin/SMoPT_v2 -Tt 300 -Tb 200 -Th 1500 -Tc 200 -R 200000 -t 3300000 -N 4839 -F ../SMoPT/example/input/S.cer.flash-freeze.genom -C ../SMoPT/example/input/S.cer.tRNA -x1 0.0 -x2 0.5 -y 0 -s 1 -O ../output/cp0.0_cdr0.5_hr0.0/cp0.0_cdr0.5_hr0.0 -p1\n",
      "Running Simulation... Runtime: 375 secs\n",
      "Done\n",
      "Simulating cyclo probability for cyclo_prob = 0.05\n",
      "../SMoPT/bin/SMoPT_v2 -Tt 300 -Tb 200 -Th 1500 -Tc 200 -R 200000 -t 3300000 -N 4839 -F ../SMoPT/example/input/S.cer.flash-freeze.genom -C ../SMoPT/example/input/S.cer.tRNA -x1 0.05 -x2 0.5 -y 0 -s 1 -O ../output/cp0.05_cdr0.5_hr0.0/cp0.05_cdr0.5_hr0.0 -p1\n",
      "Running Simulation... Runtime: 297 secs\n",
      "Done\n",
      "Simulating cyclo probability for cyclo_prob = 0.1\n",
      "../SMoPT/bin/SMoPT_v2 -Tt 300 -Tb 200 -Th 1500 -Tc 200 -R 200000 -t 3300000 -N 4839 -F ../SMoPT/example/input/S.cer.flash-freeze.genom -C ../SMoPT/example/input/S.cer.tRNA -x1 0.1 -x2 0.5 -y 0 -s 1 -O ../output/cp0.1_cdr0.5_hr0.0/cp0.1_cdr0.5_hr0.0 -p1\n",
      "Running Simulation... Runtime: 279 secs\n",
      "Done\n",
      "Simulating cyclo probability for cyclo_prob = 0.15000000000000002\n",
      "../SMoPT/bin/SMoPT_v2 -Tt 300 -Tb 200 -Th 1500 -Tc 200 -R 200000 -t 3300000 -N 4839 -F ../SMoPT/example/input/S.cer.flash-freeze.genom -C ../SMoPT/example/input/S.cer.tRNA -x1 0.15000000000000002 -x2 0.5 -y 0 -s 1 -O ../output/cp0.15000000000000002_cdr0.5_hr0.0/cp0.15000000000000002_cdr0.5_hr0.0 -p1\n",
      "Running Simulation... Runtime: 270 secs\n",
      "Done\n",
      "Simulating cyclo probability for cyclo_prob = 0.2\n",
      "../SMoPT/bin/SMoPT_v2 -Tt 300 -Tb 200 -Th 1500 -Tc 200 -R 200000 -t 3300000 -N 4839 -F ../SMoPT/example/input/S.cer.flash-freeze.genom -C ../SMoPT/example/input/S.cer.tRNA -x1 0.2 -x2 0.5 -y 0 -s 1 -O ../output/cp0.2_cdr0.5_hr0.0/cp0.2_cdr0.5_hr0.0 -p1\n",
      "Running Simulation... Runtime: 271 secs\n",
      "Done\n",
      "Simulating cyclo probability for cyclo_prob = 0.25\n",
      "../SMoPT/bin/SMoPT_v2 -Tt 300 -Tb 200 -Th 1500 -Tc 200 -R 200000 -t 3300000 -N 4839 -F ../SMoPT/example/input/S.cer.flash-freeze.genom -C ../SMoPT/example/input/S.cer.tRNA -x1 0.25 -x2 0.5 -y 0 -s 1 -O ../output/cp0.25_cdr0.5_hr0.0/cp0.25_cdr0.5_hr0.0 -p1\n"
     ]
    },
    {
     "name": "stdout",
     "output_type": "stream",
     "text": [
      "Running Simulation... Runtime: 263 secs\n",
      "Done\n",
      "Simulating cyclo probability for cyclo_prob = 0.30000000000000004\n",
      "../SMoPT/bin/SMoPT_v2 -Tt 300 -Tb 200 -Th 1500 -Tc 200 -R 200000 -t 3300000 -N 4839 -F ../SMoPT/example/input/S.cer.flash-freeze.genom -C ../SMoPT/example/input/S.cer.tRNA -x1 0.30000000000000004 -x2 0.5 -y 0 -s 1 -O ../output/cp0.30000000000000004_cdr0.5_hr0.0/cp0.30000000000000004_cdr0.5_hr0.0 -p1\n",
      "Running Simulation... Runtime: 259 secs\n",
      "Done\n",
      "Simulating cyclo probability for cyclo_prob = 0.35000000000000003\n",
      "../SMoPT/bin/SMoPT_v2 -Tt 300 -Tb 200 -Th 1500 -Tc 200 -R 200000 -t 3300000 -N 4839 -F ../SMoPT/example/input/S.cer.flash-freeze.genom -C ../SMoPT/example/input/S.cer.tRNA -x1 0.35000000000000003 -x2 0.5 -y 0 -s 1 -O ../output/cp0.35000000000000003_cdr0.5_hr0.0/cp0.35000000000000003_cdr0.5_hr0.0 -p1\n",
      "Running Simulation... Runtime: 256 secs\n",
      "Done\n",
      "Simulating cyclo probability for cyclo_prob = 0.4\n",
      "../SMoPT/bin/SMoPT_v2 -Tt 300 -Tb 200 -Th 1500 -Tc 200 -R 200000 -t 3300000 -N 4839 -F ../SMoPT/example/input/S.cer.flash-freeze.genom -C ../SMoPT/example/input/S.cer.tRNA -x1 0.4 -x2 0.5 -y 0 -s 1 -O ../output/cp0.4_cdr0.5_hr0.0/cp0.4_cdr0.5_hr0.0 -p1\n",
      "Running Simulation... Runtime: 259 secs\n",
      "Done\n",
      "Simulating cyclo probability for cyclo_prob = 0.45\n",
      "../SMoPT/bin/SMoPT_v2 -Tt 300 -Tb 200 -Th 1500 -Tc 200 -R 200000 -t 3300000 -N 4839 -F ../SMoPT/example/input/S.cer.flash-freeze.genom -C ../SMoPT/example/input/S.cer.tRNA -x1 0.45 -x2 0.5 -y 0 -s 1 -O ../output/cp0.45_cdr0.5_hr0.0/cp0.45_cdr0.5_hr0.0 -p1\n",
      "Running Simulation... Runtime: 252 secs\n",
      "Done\n",
      "Simulating cyclo probability for cyclo_prob = 0.5\n",
      "../SMoPT/bin/SMoPT_v2 -Tt 300 -Tb 200 -Th 1500 -Tc 200 -R 200000 -t 3300000 -N 4839 -F ../SMoPT/example/input/S.cer.flash-freeze.genom -C ../SMoPT/example/input/S.cer.tRNA -x1 0.5 -x2 0.5 -y 0 -s 1 -O ../output/cp0.5_cdr0.5_hr0.0/cp0.5_cdr0.5_hr0.0 -p1\n",
      "Running Simulation... Runtime: 249 secs\n",
      "Done\n",
      "Simulating cyclo probability for cyclo_prob = 0.55\n",
      "../SMoPT/bin/SMoPT_v2 -Tt 300 -Tb 200 -Th 1500 -Tc 200 -R 200000 -t 3300000 -N 4839 -F ../SMoPT/example/input/S.cer.flash-freeze.genom -C ../SMoPT/example/input/S.cer.tRNA -x1 0.55 -x2 0.5 -y 0 -s 1 -O ../output/cp0.55_cdr0.5_hr0.0/cp0.55_cdr0.5_hr0.0 -p1\n",
      "Running Simulation... Runtime: 245 secs\n",
      "Done\n",
      "Simulating cyclo probability for cyclo_prob = 0.6000000000000001\n",
      "../SMoPT/bin/SMoPT_v2 -Tt 300 -Tb 200 -Th 1500 -Tc 200 -R 200000 -t 3300000 -N 4839 -F ../SMoPT/example/input/S.cer.flash-freeze.genom -C ../SMoPT/example/input/S.cer.tRNA -x1 0.6000000000000001 -x2 0.5 -y 0 -s 1 -O ../output/cp0.6000000000000001_cdr0.5_hr0.0/cp0.6000000000000001_cdr0.5_hr0.0 -p1\n",
      "Running Simulation... Runtime: 244 secs\n",
      "Done\n",
      "Simulating cyclo probability for cyclo_prob = 0.65\n",
      "../SMoPT/bin/SMoPT_v2 -Tt 300 -Tb 200 -Th 1500 -Tc 200 -R 200000 -t 3300000 -N 4839 -F ../SMoPT/example/input/S.cer.flash-freeze.genom -C ../SMoPT/example/input/S.cer.tRNA -x1 0.65 -x2 0.5 -y 0 -s 1 -O ../output/cp0.65_cdr0.5_hr0.0/cp0.65_cdr0.5_hr0.0 -p1\n",
      "Running Simulation... Runtime: 245 secs\n",
      "Done\n",
      "Simulating cyclo probability for cyclo_prob = 0.7000000000000001\n",
      "../SMoPT/bin/SMoPT_v2 -Tt 300 -Tb 200 -Th 1500 -Tc 200 -R 200000 -t 3300000 -N 4839 -F ../SMoPT/example/input/S.cer.flash-freeze.genom -C ../SMoPT/example/input/S.cer.tRNA -x1 0.7000000000000001 -x2 0.5 -y 0 -s 1 -O ../output/cp0.7000000000000001_cdr0.5_hr0.0/cp0.7000000000000001_cdr0.5_hr0.0 -p1\n",
      "Running Simulation... Runtime: 244 secs\n",
      "Done\n",
      "Simulating cyclo probability for cyclo_prob = 0.75\n",
      "../SMoPT/bin/SMoPT_v2 -Tt 300 -Tb 200 -Th 1500 -Tc 200 -R 200000 -t 3300000 -N 4839 -F ../SMoPT/example/input/S.cer.flash-freeze.genom -C ../SMoPT/example/input/S.cer.tRNA -x1 0.75 -x2 0.5 -y 0 -s 1 -O ../output/cp0.75_cdr0.5_hr0.0/cp0.75_cdr0.5_hr0.0 -p1\n",
      "Running Simulation... Runtime: 244 secs\n",
      "Done\n",
      "Simulating cyclo probability for cyclo_prob = 0.8\n",
      "../SMoPT/bin/SMoPT_v2 -Tt 300 -Tb 200 -Th 1500 -Tc 200 -R 200000 -t 3300000 -N 4839 -F ../SMoPT/example/input/S.cer.flash-freeze.genom -C ../SMoPT/example/input/S.cer.tRNA -x1 0.8 -x2 0.5 -y 0 -s 1 -O ../output/cp0.8_cdr0.5_hr0.0/cp0.8_cdr0.5_hr0.0 -p1\n",
      "Running Simulation... Runtime: 246 secs\n",
      "Done\n",
      "Simulating cyclo probability for cyclo_prob = 0.8500000000000001\n",
      "../SMoPT/bin/SMoPT_v2 -Tt 300 -Tb 200 -Th 1500 -Tc 200 -R 200000 -t 3300000 -N 4839 -F ../SMoPT/example/input/S.cer.flash-freeze.genom -C ../SMoPT/example/input/S.cer.tRNA -x1 0.8500000000000001 -x2 0.5 -y 0 -s 1 -O ../output/cp0.8500000000000001_cdr0.5_hr0.0/cp0.8500000000000001_cdr0.5_hr0.0 -p1\n",
      "Running Simulation... Runtime: 244 secs\n",
      "Done\n",
      "Simulating cyclo probability for cyclo_prob = 0.9\n",
      "../SMoPT/bin/SMoPT_v2 -Tt 300 -Tb 200 -Th 1500 -Tc 200 -R 200000 -t 3300000 -N 4839 -F ../SMoPT/example/input/S.cer.flash-freeze.genom -C ../SMoPT/example/input/S.cer.tRNA -x1 0.9 -x2 0.5 -y 0 -s 1 -O ../output/cp0.9_cdr0.5_hr0.0/cp0.9_cdr0.5_hr0.0 -p1\n",
      "Running Simulation... Runtime: 243 secs\n",
      "Done\n",
      "Simulating cyclo probability for cyclo_prob = 0.9500000000000001\n",
      "../SMoPT/bin/SMoPT_v2 -Tt 300 -Tb 200 -Th 1500 -Tc 200 -R 200000 -t 3300000 -N 4839 -F ../SMoPT/example/input/S.cer.flash-freeze.genom -C ../SMoPT/example/input/S.cer.tRNA -x1 0.9500000000000001 -x2 0.5 -y 0 -s 1 -O ../output/cp0.9500000000000001_cdr0.5_hr0.0/cp0.9500000000000001_cdr0.5_hr0.0 -p1\n",
      "Running Simulation... Runtime: 245 secs\n",
      "Done\n",
      "Simulating cyclo probability for cyclo_prob = 1.0\n",
      "../SMoPT/bin/SMoPT_v2 -Tt 300 -Tb 200 -Th 1500 -Tc 200 -R 200000 -t 3300000 -N 4839 -F ../SMoPT/example/input/S.cer.flash-freeze.genom -C ../SMoPT/example/input/S.cer.tRNA -x1 1.0 -x2 0.5 -y 0 -s 1 -O ../output/cp1.0_cdr0.5_hr0.0/cp1.0_cdr0.5_hr0.0 -p1\n",
      "Running Simulation... Runtime: 243 secs\n",
      "Done\n",
      "Simulating cyclo probability for cyclo_prob = 0.0\n",
      "../SMoPT/bin/SMoPT_v2 -Tt 300 -Tb 200 -Th 1500 -Tc 200 -R 200000 -t 3300000 -N 4839 -F ../SMoPT/example/input/S.cer.flash-freeze.genom -C ../SMoPT/example/input/S.cer.tRNA -x1 0.0 -x2 0.5 -y 0 -s 1 -O ../output/cp0.0_cdr0.5_hr0.0/cp0.0_cdr0.5_hr0.0 -p1\n",
      "Running Simulation... Runtime: 346 secs\n",
      "Done\n",
      "Simulating cyclo probability for cyclo_prob = 0.05\n",
      "../SMoPT/bin/SMoPT_v2 -Tt 300 -Tb 200 -Th 1500 -Tc 200 -R 200000 -t 3300000 -N 4839 -F ../SMoPT/example/input/S.cer.flash-freeze.genom -C ../SMoPT/example/input/S.cer.tRNA -x1 0.05 -x2 0.5 -y 0 -s 1 -O ../output/cp0.05_cdr0.5_hr0.0/cp0.05_cdr0.5_hr0.0 -p1\n",
      "Running Simulation... Runtime: 288 secs\n",
      "Done\n",
      "Simulating cyclo probability for cyclo_prob = 0.1\n",
      "../SMoPT/bin/SMoPT_v2 -Tt 300 -Tb 200 -Th 1500 -Tc 200 -R 200000 -t 3300000 -N 4839 -F ../SMoPT/example/input/S.cer.flash-freeze.genom -C ../SMoPT/example/input/S.cer.tRNA -x1 0.1 -x2 0.5 -y 0 -s 1 -O ../output/cp0.1_cdr0.5_hr0.0/cp0.1_cdr0.5_hr0.0 -p1\n",
      "Running Simulation... Runtime: 278 secs\n",
      "Done\n",
      "Simulating cyclo probability for cyclo_prob = 0.15000000000000002\n",
      "../SMoPT/bin/SMoPT_v2 -Tt 300 -Tb 200 -Th 1500 -Tc 200 -R 200000 -t 3300000 -N 4839 -F ../SMoPT/example/input/S.cer.flash-freeze.genom -C ../SMoPT/example/input/S.cer.tRNA -x1 0.15000000000000002 -x2 0.5 -y 0 -s 1 -O ../output/cp0.15000000000000002_cdr0.5_hr0.0/cp0.15000000000000002_cdr0.5_hr0.0 -p1\n",
      "Running Simulation... Runtime: 252 secs\n",
      "Done\n",
      "Simulating cyclo probability for cyclo_prob = 0.2\n",
      "../SMoPT/bin/SMoPT_v2 -Tt 300 -Tb 200 -Th 1500 -Tc 200 -R 200000 -t 3300000 -N 4839 -F ../SMoPT/example/input/S.cer.flash-freeze.genom -C ../SMoPT/example/input/S.cer.tRNA -x1 0.2 -x2 0.5 -y 0 -s 1 -O ../output/cp0.2_cdr0.5_hr0.0/cp0.2_cdr0.5_hr0.0 -p1\n",
      "Running Simulation... Runtime: 249 secs\n",
      "Done\n",
      "Simulating cyclo probability for cyclo_prob = 0.25\n",
      "../SMoPT/bin/SMoPT_v2 -Tt 300 -Tb 200 -Th 1500 -Tc 200 -R 200000 -t 3300000 -N 4839 -F ../SMoPT/example/input/S.cer.flash-freeze.genom -C ../SMoPT/example/input/S.cer.tRNA -x1 0.25 -x2 0.5 -y 0 -s 1 -O ../output/cp0.25_cdr0.5_hr0.0/cp0.25_cdr0.5_hr0.0 -p1\n",
      "Running Simulation... Runtime: 246 secs\n",
      "Done\n",
      "Simulating cyclo probability for cyclo_prob = 0.30000000000000004\n",
      "../SMoPT/bin/SMoPT_v2 -Tt 300 -Tb 200 -Th 1500 -Tc 200 -R 200000 -t 3300000 -N 4839 -F ../SMoPT/example/input/S.cer.flash-freeze.genom -C ../SMoPT/example/input/S.cer.tRNA -x1 0.30000000000000004 -x2 0.5 -y 0 -s 1 -O ../output/cp0.30000000000000004_cdr0.5_hr0.0/cp0.30000000000000004_cdr0.5_hr0.0 -p1\n",
      "Running Simulation... Runtime: 245 secs\n",
      "Done\n",
      "Simulating cyclo probability for cyclo_prob = 0.35000000000000003\n",
      "../SMoPT/bin/SMoPT_v2 -Tt 300 -Tb 200 -Th 1500 -Tc 200 -R 200000 -t 3300000 -N 4839 -F ../SMoPT/example/input/S.cer.flash-freeze.genom -C ../SMoPT/example/input/S.cer.tRNA -x1 0.35000000000000003 -x2 0.5 -y 0 -s 1 -O ../output/cp0.35000000000000003_cdr0.5_hr0.0/cp0.35000000000000003_cdr0.5_hr0.0 -p1\n",
      "Running Simulation... Runtime: 241 secs\n",
      "Done\n",
      "Simulating cyclo probability for cyclo_prob = 0.4\n",
      "../SMoPT/bin/SMoPT_v2 -Tt 300 -Tb 200 -Th 1500 -Tc 200 -R 200000 -t 3300000 -N 4839 -F ../SMoPT/example/input/S.cer.flash-freeze.genom -C ../SMoPT/example/input/S.cer.tRNA -x1 0.4 -x2 0.5 -y 0 -s 1 -O ../output/cp0.4_cdr0.5_hr0.0/cp0.4_cdr0.5_hr0.0 -p1\n",
      "Running Simulation... Runtime: 239 secs\n",
      "Done\n",
      "Simulating cyclo probability for cyclo_prob = 0.45\n",
      "../SMoPT/bin/SMoPT_v2 -Tt 300 -Tb 200 -Th 1500 -Tc 200 -R 200000 -t 3300000 -N 4839 -F ../SMoPT/example/input/S.cer.flash-freeze.genom -C ../SMoPT/example/input/S.cer.tRNA -x1 0.45 -x2 0.5 -y 0 -s 1 -O ../output/cp0.45_cdr0.5_hr0.0/cp0.45_cdr0.5_hr0.0 -p1\n",
      "Running Simulation... Runtime: 239 secs\n",
      "Done\n",
      "Simulating cyclo probability for cyclo_prob = 0.5\n",
      "../SMoPT/bin/SMoPT_v2 -Tt 300 -Tb 200 -Th 1500 -Tc 200 -R 200000 -t 3300000 -N 4839 -F ../SMoPT/example/input/S.cer.flash-freeze.genom -C ../SMoPT/example/input/S.cer.tRNA -x1 0.5 -x2 0.5 -y 0 -s 1 -O ../output/cp0.5_cdr0.5_hr0.0/cp0.5_cdr0.5_hr0.0 -p1\n",
      "Running Simulation... Runtime: 238 secs\n",
      "Done\n",
      "Simulating cyclo probability for cyclo_prob = 0.55\n",
      "../SMoPT/bin/SMoPT_v2 -Tt 300 -Tb 200 -Th 1500 -Tc 200 -R 200000 -t 3300000 -N 4839 -F ../SMoPT/example/input/S.cer.flash-freeze.genom -C ../SMoPT/example/input/S.cer.tRNA -x1 0.55 -x2 0.5 -y 0 -s 1 -O ../output/cp0.55_cdr0.5_hr0.0/cp0.55_cdr0.5_hr0.0 -p1\n",
      "Running Simulation... Runtime: 238 secs\n",
      "Done\n",
      "Simulating cyclo probability for cyclo_prob = 0.6000000000000001\n",
      "../SMoPT/bin/SMoPT_v2 -Tt 300 -Tb 200 -Th 1500 -Tc 200 -R 200000 -t 3300000 -N 4839 -F ../SMoPT/example/input/S.cer.flash-freeze.genom -C ../SMoPT/example/input/S.cer.tRNA -x1 0.6000000000000001 -x2 0.5 -y 0 -s 1 -O ../output/cp0.6000000000000001_cdr0.5_hr0.0/cp0.6000000000000001_cdr0.5_hr0.0 -p1\n",
      "Running Simulation... Runtime: 236 secs\n",
      "Done\n",
      "Simulating cyclo probability for cyclo_prob = 0.65\n",
      "../SMoPT/bin/SMoPT_v2 -Tt 300 -Tb 200 -Th 1500 -Tc 200 -R 200000 -t 3300000 -N 4839 -F ../SMoPT/example/input/S.cer.flash-freeze.genom -C ../SMoPT/example/input/S.cer.tRNA -x1 0.65 -x2 0.5 -y 0 -s 1 -O ../output/cp0.65_cdr0.5_hr0.0/cp0.65_cdr0.5_hr0.0 -p1\n",
      "Running Simulation... Runtime: 236 secs\n",
      "Done\n",
      "Simulating cyclo probability for cyclo_prob = 0.7000000000000001\n",
      "../SMoPT/bin/SMoPT_v2 -Tt 300 -Tb 200 -Th 1500 -Tc 200 -R 200000 -t 3300000 -N 4839 -F ../SMoPT/example/input/S.cer.flash-freeze.genom -C ../SMoPT/example/input/S.cer.tRNA -x1 0.7000000000000001 -x2 0.5 -y 0 -s 1 -O ../output/cp0.7000000000000001_cdr0.5_hr0.0/cp0.7000000000000001_cdr0.5_hr0.0 -p1\n",
      "Running Simulation... Runtime: 235 secs\n",
      "Done\n",
      "Simulating cyclo probability for cyclo_prob = 0.75\n",
      "../SMoPT/bin/SMoPT_v2 -Tt 300 -Tb 200 -Th 1500 -Tc 200 -R 200000 -t 3300000 -N 4839 -F ../SMoPT/example/input/S.cer.flash-freeze.genom -C ../SMoPT/example/input/S.cer.tRNA -x1 0.75 -x2 0.5 -y 0 -s 1 -O ../output/cp0.75_cdr0.5_hr0.0/cp0.75_cdr0.5_hr0.0 -p1\n",
      "Running Simulation... Runtime: 236 secs\n",
      "Done\n",
      "Simulating cyclo probability for cyclo_prob = 0.8\n",
      "../SMoPT/bin/SMoPT_v2 -Tt 300 -Tb 200 -Th 1500 -Tc 200 -R 200000 -t 3300000 -N 4839 -F ../SMoPT/example/input/S.cer.flash-freeze.genom -C ../SMoPT/example/input/S.cer.tRNA -x1 0.8 -x2 0.5 -y 0 -s 1 -O ../output/cp0.8_cdr0.5_hr0.0/cp0.8_cdr0.5_hr0.0 -p1\n",
      "Running Simulation... Runtime: 235 secs\n",
      "Done\n",
      "Simulating cyclo probability for cyclo_prob = 0.8500000000000001\n",
      "../SMoPT/bin/SMoPT_v2 -Tt 300 -Tb 200 -Th 1500 -Tc 200 -R 200000 -t 3300000 -N 4839 -F ../SMoPT/example/input/S.cer.flash-freeze.genom -C ../SMoPT/example/input/S.cer.tRNA -x1 0.8500000000000001 -x2 0.5 -y 0 -s 1 -O ../output/cp0.8500000000000001_cdr0.5_hr0.0/cp0.8500000000000001_cdr0.5_hr0.0 -p1\n",
      "Running Simulation... Runtime: 234 secs\n",
      "Done\n",
      "Simulating cyclo probability for cyclo_prob = 0.9\n",
      "../SMoPT/bin/SMoPT_v2 -Tt 300 -Tb 200 -Th 1500 -Tc 200 -R 200000 -t 3300000 -N 4839 -F ../SMoPT/example/input/S.cer.flash-freeze.genom -C ../SMoPT/example/input/S.cer.tRNA -x1 0.9 -x2 0.5 -y 0 -s 1 -O ../output/cp0.9_cdr0.5_hr0.0/cp0.9_cdr0.5_hr0.0 -p1\n",
      "Running Simulation... Runtime: 235 secs\n",
      "Done\n",
      "Simulating cyclo probability for cyclo_prob = 0.9500000000000001\n",
      "../SMoPT/bin/SMoPT_v2 -Tt 300 -Tb 200 -Th 1500 -Tc 200 -R 200000 -t 3300000 -N 4839 -F ../SMoPT/example/input/S.cer.flash-freeze.genom -C ../SMoPT/example/input/S.cer.tRNA -x1 0.9500000000000001 -x2 0.5 -y 0 -s 1 -O ../output/cp0.9500000000000001_cdr0.5_hr0.0/cp0.9500000000000001_cdr0.5_hr0.0 -p1\n",
      "Running Simulation... Runtime: 235 secs\n",
      "Done\n",
      "Simulating cyclo probability for cyclo_prob = 1.0\n",
      "../SMoPT/bin/SMoPT_v2 -Tt 300 -Tb 200 -Th 1500 -Tc 200 -R 200000 -t 3300000 -N 4839 -F ../SMoPT/example/input/S.cer.flash-freeze.genom -C ../SMoPT/example/input/S.cer.tRNA -x1 1.0 -x2 0.5 -y 0 -s 1 -O ../output/cp1.0_cdr0.5_hr0.0/cp1.0_cdr0.5_hr0.0 -p1\n",
      "Running Simulation... Runtime: 234 secs\n",
      "Done\n"
     ]
    }
   ],
   "source": [
    "# Smooth results over 5 runs\n",
    "X = np.arange(0, 1, 0.05)\n",
    "elon_rates = []\n",
    "for i in range(5):\n",
    "    outpath = '../output/'\n",
    "    rates = []\n",
    "    for x in X:\n",
    "        print('Simulating cyclo probability for cyclo_prob = ' + str(x))\n",
    "        outfiles = run_sim(outpath, linux=False, sim_time=300, equil_time=200, cyclo_add_time=200,\n",
    "                 cyclo_prob=x, cyclo_dissoc_rate=0.5, logging=True)\n",
    "        outfile = ''\n",
    "        for fname in outfiles:\n",
    "            if re.search(r'etimes.out', fname):\n",
    "                outfile = fname\n",
    "        if outfile:\n",
    "            codon_rates = pd.read_csv(outfile, sep='\\t')\n",
    "            avg_elong_rate = 1 / np.mean(codon_rates['Avg_elong_time(sec)'])\n",
    "            rates.append(avg_elong_rate)\n",
    "        else:\n",
    "            rates.append(np.nan)\n",
    "    elon_rates.append(rates)\n",
    "elon_rates = pd.DataFrame(elon_rates)"
   ]
  },
  {
   "cell_type": "code",
   "execution_count": 29,
   "metadata": {},
   "outputs": [],
   "source": [
    "elon_rates.to_csv('../data/elon_rates.csv')"
   ]
  },
  {
   "cell_type": "code",
   "execution_count": 106,
   "metadata": {},
   "outputs": [],
   "source": [
    "elon_rates = pd.read_csv('../data/elon_rates.csv').drop('Unnamed: 0', axis=1)"
   ]
  },
  {
   "cell_type": "code",
   "execution_count": 61,
   "metadata": {
    "scrolled": true
   },
   "outputs": [
    {
     "data": {
      "image/png": "[encoded data removed]",
      "text/plain": [
       "<Figure size 432x288 with 1 Axes>"
      ]
     },
     "metadata": {
      "needs_background": "light"
     },
     "output_type": "display_data"
    }
   ],
   "source": [
    "y = np.mean(elon_rates).values\n",
    "plot = sns.lineplot(X, y)\n",
    "fig = plot.get_figure()\n",
    "fig.savefig('../plots/Elongation_vs_CHX.png')"
   ]
  },
  {
   "cell_type": "code",
   "execution_count": 102,
   "metadata": {},
   "outputs": [
    {
     "data": {
      "text/plain": [
       "<matplotlib.axes._subplots.AxesSubplot at 0x25e7a38f5f8>"
      ]
     },
     "execution_count": 102,
     "metadata": {},
     "output_type": "execute_result"
    },
    {
     "data": {
      "image/png": "[encoded data removed]",
      "text/plain": [
       "<Figure size 432x288 with 1 Axes>"
      ]
     },
     "metadata": {
      "needs_background": "light"
     },
     "output_type": "display_data"
    }
   ],
   "source": [
    "degs = 10\n",
    "# Fit a line where the x is the init rate and y is the CHX rate\n",
    "# (so we can use this to figure out what CHX rate to pass into\n",
    "# the simulation to give us a certain initiation rate)\n",
    "coefs = np.polyfit(y, X, degs)\n",
    "chx_rates = []\n",
    "for init_rate in y:\n",
    "    chx_rate = 0\n",
    "    for deg in range(degs + 1):\n",
    "        chx_rate += coefs[deg] * init_rate ** (degs - deg)\n",
    "    chx_rates.append(chx_rate)\n",
    "# Plot our fit line versus the real values\n",
    "sns.lineplot(chx_rates, y)\n",
    "sns.lineplot(X, y)"
   ]
  },
  {
   "cell_type": "code",
   "execution_count": 108,
   "metadata": {},
   "outputs": [],
   "source": [
    "# Save the coefficients to use in our function\n",
    "pd.Series(coefs).to_csv('../config/elon_rates_coefs.csv')"
   ]
  },
  {
   "cell_type": "code",
   "execution_count": null,
   "metadata": {},
   "outputs": [],
   "source": [
    "# On average it takes 250 seconds for ribosomes to find RNA"
   ]
  },
  {
   "cell_type": "code",
   "execution_count": 10,
   "metadata": {},
   "outputs": [],
   "source": [
    "# Helper function to read output of -p5 into matrix\n",
    "def read_p5(filepath):\n",
    "    data = np.zeros(5000)\n",
    "    with open(filepath) as f:\n",
    "        for i, line in enumerate(f):\n",
    "            for j, val in enumerate(line.split(' ')):\n",
    "                data[j] += float(val)\n",
    "    return data"
   ]
  },
  {
   "cell_type": "code",
   "execution_count": 11,
   "metadata": {},
   "outputs": [
    {
     "ename": "ValueError",
     "evalue": "The truth value of an array with more than one element is ambiguous. Use a.any() or a.all()",
     "output_type": "error",
     "traceback": [
      "\u001b[0;31m---------------------------------------------------------------------------\u001b[0m",
      "\u001b[0;31mValueError\u001b[0m                                Traceback (most recent call last)",
      "\u001b[0;32m<ipython-input-11-37fd7123b3db>\u001b[0m in \u001b[0;36m<module>\u001b[0;34m\u001b[0m\n\u001b[1;32m     13\u001b[0m     \u001b[0mdata\u001b[0m \u001b[0;34m=\u001b[0m \u001b[0;34m[\u001b[0m\u001b[0mx\u001b[0m \u001b[0;32mfor\u001b[0m \u001b[0m_\u001b[0m\u001b[0;34m,\u001b[0m \u001b[0mx\u001b[0m \u001b[0;32min\u001b[0m \u001b[0msorted\u001b[0m\u001b[0;34m(\u001b[0m\u001b[0mzip\u001b[0m\u001b[0;34m(\u001b[0m\u001b[0mdataind\u001b[0m\u001b[0;34m,\u001b[0m \u001b[0mdata\u001b[0m\u001b[0;34m)\u001b[0m\u001b[0;34m)\u001b[0m\u001b[0;34m]\u001b[0m\u001b[0;34m\u001b[0m\u001b[0;34m\u001b[0m\u001b[0m\n\u001b[1;32m     14\u001b[0m     \u001b[0;32mreturn\u001b[0m \u001b[0mdata\u001b[0m\u001b[0;34m\u001b[0m\u001b[0;34m\u001b[0m\u001b[0m\n\u001b[0;32m---> 15\u001b[0;31m \u001b[0mdata\u001b[0m \u001b[0;34m=\u001b[0m \u001b[0mread_dir\u001b[0m\u001b[0;34m(\u001b[0m\u001b[0;34m'../output'\u001b[0m\u001b[0;34m)\u001b[0m\u001b[0;34m\u001b[0m\u001b[0;34m\u001b[0m\u001b[0m\n\u001b[0m",
      "\u001b[0;32m<ipython-input-11-37fd7123b3db>\u001b[0m in \u001b[0;36mread_dir\u001b[0;34m(outdir)\u001b[0m\n\u001b[1;32m     11\u001b[0m                 \u001b[0;32mif\u001b[0m \u001b[0mre\u001b[0m\u001b[0;34m.\u001b[0m\u001b[0msearch\u001b[0m\u001b[0;34m(\u001b[0m\u001b[0;34m'final_ribo_pos.out'\u001b[0m\u001b[0;34m,\u001b[0m \u001b[0mfile\u001b[0m\u001b[0;34m)\u001b[0m\u001b[0;34m:\u001b[0m\u001b[0;34m\u001b[0m\u001b[0;34m\u001b[0m\u001b[0m\n\u001b[1;32m     12\u001b[0m                     \u001b[0mdata\u001b[0m\u001b[0;34m.\u001b[0m\u001b[0mappend\u001b[0m\u001b[0;34m(\u001b[0m\u001b[0mread_p5\u001b[0m\u001b[0;34m(\u001b[0m\u001b[0;34mf'{outdir}/{simdir}/{file}'\u001b[0m\u001b[0;34m)\u001b[0m\u001b[0;34m)\u001b[0m\u001b[0;34m\u001b[0m\u001b[0;34m\u001b[0m\u001b[0m\n\u001b[0;32m---> 13\u001b[0;31m     \u001b[0mdata\u001b[0m \u001b[0;34m=\u001b[0m \u001b[0;34m[\u001b[0m\u001b[0mx\u001b[0m \u001b[0;32mfor\u001b[0m \u001b[0m_\u001b[0m\u001b[0;34m,\u001b[0m \u001b[0mx\u001b[0m \u001b[0;32min\u001b[0m \u001b[0msorted\u001b[0m\u001b[0;34m(\u001b[0m\u001b[0mzip\u001b[0m\u001b[0;34m(\u001b[0m\u001b[0mdataind\u001b[0m\u001b[0;34m,\u001b[0m \u001b[0mdata\u001b[0m\u001b[0;34m)\u001b[0m\u001b[0;34m)\u001b[0m\u001b[0;34m]\u001b[0m\u001b[0;34m\u001b[0m\u001b[0;34m\u001b[0m\u001b[0m\n\u001b[0m\u001b[1;32m     14\u001b[0m     \u001b[0;32mreturn\u001b[0m \u001b[0mdata\u001b[0m\u001b[0;34m\u001b[0m\u001b[0;34m\u001b[0m\u001b[0m\n\u001b[1;32m     15\u001b[0m \u001b[0mdata\u001b[0m \u001b[0;34m=\u001b[0m \u001b[0mread_dir\u001b[0m\u001b[0;34m(\u001b[0m\u001b[0;34m'../output'\u001b[0m\u001b[0;34m)\u001b[0m\u001b[0;34m\u001b[0m\u001b[0;34m\u001b[0m\u001b[0m\n",
      "\u001b[0;31mValueError\u001b[0m: The truth value of an array with more than one element is ambiguous. Use a.any() or a.all()"
     ]
    }
   ],
   "source": [
    "# Helper function to read all -p5 outputs in a folder\n",
    "def read_dir(outdir):\n",
    "    dataind = []\n",
    "    for simdir in os.listdir(outdir):\n",
    "        if simdir[:2] == 'cp':\n",
    "            dataind.append(int(float(simdir.split('hr')[-1])))\n",
    "    data = []\n",
    "    for simdir in os.listdir(outdir):\n",
    "        if simdir[:2] == 'cp':\n",
    "            for file in os.listdir(f'{outdir}/{simdir}'):\n",
    "                if re.search('final_ribo_pos.out', file):\n",
    "                    data.append(read_p5(f'{outdir}/{simdir}/{file}'))\n",
    "    data = [x for _, x in sorted(zip(dataind, data))]\n",
    "    return data\n",
    "data = read_dir('../output')"
   ]
  },
  {
   "cell_type": "code",
   "execution_count": 118,
   "metadata": {},
   "outputs": [
    {
     "ename": "FileNotFoundError",
     "evalue": "[WinError 2] The system cannot find the file specified",
     "output_type": "error",
     "traceback": [
      "\u001b[1;31m---------------------------------------------------------------------------\u001b[0m",
      "\u001b[1;31mFileNotFoundError\u001b[0m                         Traceback (most recent call last)",
      "\u001b[1;32m<ipython-input-118-db3c1c256dc1>\u001b[0m in \u001b[0;36m<module>\u001b[1;34m\u001b[0m\n\u001b[0;32m     10\u001b[0m     outfiles = run_sim(outpath, linux=True, sim_time=300, equil_time=200, harr_add_time=harr_add_time,\n\u001b[0;32m     11\u001b[0m                            \u001b[0mharr_rate\u001b[0m\u001b[1;33m=\u001b[0m\u001b[0mx\u001b[0m\u001b[1;33m,\u001b[0m \u001b[0mcyclo_add_time\u001b[0m\u001b[1;33m=\u001b[0m\u001b[1;36m200\u001b[0m\u001b[1;33m,\u001b[0m \u001b[0mcyclo_prob\u001b[0m\u001b[1;33m=\u001b[0m\u001b[1;36m0.5\u001b[0m\u001b[1;33m,\u001b[0m \u001b[0mcyclo_dissoc_rate\u001b[0m\u001b[1;33m=\u001b[0m\u001b[1;36m0.5\u001b[0m\u001b[1;33m,\u001b[0m\u001b[1;33m\u001b[0m\u001b[1;33m\u001b[0m\u001b[0m\n\u001b[1;32m---> 12\u001b[1;33m                            outputs=[3], logging=True)\n\u001b[0m\u001b[0;32m     13\u001b[0m     \u001b[0moutfile\u001b[0m \u001b[1;33m=\u001b[0m \u001b[1;34m''\u001b[0m\u001b[1;33m\u001b[0m\u001b[1;33m\u001b[0m\u001b[0m\n\u001b[0;32m     14\u001b[0m     \u001b[1;32mfor\u001b[0m \u001b[0mfname\u001b[0m \u001b[1;32min\u001b[0m \u001b[0moutfiles\u001b[0m\u001b[1;33m:\u001b[0m\u001b[1;33m\u001b[0m\u001b[1;33m\u001b[0m\u001b[0m\n",
      "\u001b[1;32m~\\zid_simulation\\src\\run_sim.py\u001b[0m in \u001b[0;36mrun_sim\u001b[1;34m(output_path, linux, sim_time, equil_time, harr_add_time, cyclo_add_time, num_rib, num_trna, num_genes, cyclo_prob, cyclo_dissoc_rate, harr_rate, random_seed, input_genom_path, input_trna_path, outputs, logging)\u001b[0m\n\u001b[0;32m     58\u001b[0m \u001b[1;33m\u001b[0m\u001b[0m\n\u001b[0;32m     59\u001b[0m     \u001b[1;31m# Run simulation, wait for it to finish\u001b[0m\u001b[1;33m\u001b[0m\u001b[1;33m\u001b[0m\u001b[1;33m\u001b[0m\u001b[0m\n\u001b[1;32m---> 60\u001b[1;33m     \u001b[0mproc\u001b[0m \u001b[1;33m=\u001b[0m \u001b[0msp\u001b[0m\u001b[1;33m.\u001b[0m\u001b[0mPopen\u001b[0m\u001b[1;33m(\u001b[0m\u001b[0mcmd\u001b[0m\u001b[1;33m,\u001b[0m \u001b[0mstdout\u001b[0m\u001b[1;33m=\u001b[0m\u001b[0msp\u001b[0m\u001b[1;33m.\u001b[0m\u001b[0mPIPE\u001b[0m\u001b[1;33m,\u001b[0m \u001b[0mstderr\u001b[0m\u001b[1;33m=\u001b[0m\u001b[0msp\u001b[0m\u001b[1;33m.\u001b[0m\u001b[0mPIPE\u001b[0m\u001b[1;33m)\u001b[0m\u001b[1;33m\u001b[0m\u001b[1;33m\u001b[0m\u001b[0m\n\u001b[0m\u001b[0;32m     61\u001b[0m     \u001b[1;32mif\u001b[0m \u001b[0mlogging\u001b[0m\u001b[1;33m:\u001b[0m\u001b[1;33m\u001b[0m\u001b[1;33m\u001b[0m\u001b[0m\n\u001b[0;32m     62\u001b[0m         \u001b[0mprint\u001b[0m\u001b[1;33m(\u001b[0m\u001b[1;34m' '\u001b[0m\u001b[1;33m.\u001b[0m\u001b[0mjoin\u001b[0m\u001b[1;33m(\u001b[0m\u001b[0mcmd\u001b[0m\u001b[1;33m)\u001b[0m\u001b[1;33m)\u001b[0m\u001b[1;33m\u001b[0m\u001b[1;33m\u001b[0m\u001b[0m\n",
      "\u001b[1;32m~\\Anaconda3\\lib\\subprocess.py\u001b[0m in \u001b[0;36m__init__\u001b[1;34m(self, args, bufsize, executable, stdin, stdout, stderr, preexec_fn, close_fds, shell, cwd, env, universal_newlines, startupinfo, creationflags, restore_signals, start_new_session, pass_fds, encoding, errors, text)\u001b[0m\n\u001b[0;32m    767\u001b[0m                                 \u001b[0mc2pread\u001b[0m\u001b[1;33m,\u001b[0m \u001b[0mc2pwrite\u001b[0m\u001b[1;33m,\u001b[0m\u001b[1;33m\u001b[0m\u001b[1;33m\u001b[0m\u001b[0m\n\u001b[0;32m    768\u001b[0m                                 \u001b[0merrread\u001b[0m\u001b[1;33m,\u001b[0m \u001b[0merrwrite\u001b[0m\u001b[1;33m,\u001b[0m\u001b[1;33m\u001b[0m\u001b[1;33m\u001b[0m\u001b[0m\n\u001b[1;32m--> 769\u001b[1;33m                                 restore_signals, start_new_session)\n\u001b[0m\u001b[0;32m    770\u001b[0m         \u001b[1;32mexcept\u001b[0m\u001b[1;33m:\u001b[0m\u001b[1;33m\u001b[0m\u001b[1;33m\u001b[0m\u001b[0m\n\u001b[0;32m    771\u001b[0m             \u001b[1;31m# Cleanup if the child failed starting.\u001b[0m\u001b[1;33m\u001b[0m\u001b[1;33m\u001b[0m\u001b[1;33m\u001b[0m\u001b[0m\n",
      "\u001b[1;32m~\\Anaconda3\\lib\\subprocess.py\u001b[0m in \u001b[0;36m_execute_child\u001b[1;34m(self, args, executable, preexec_fn, close_fds, pass_fds, cwd, env, startupinfo, creationflags, shell, p2cread, p2cwrite, c2pread, c2pwrite, errread, errwrite, unused_restore_signals, unused_start_new_session)\u001b[0m\n\u001b[0;32m   1170\u001b[0m                                          \u001b[0menv\u001b[0m\u001b[1;33m,\u001b[0m\u001b[1;33m\u001b[0m\u001b[1;33m\u001b[0m\u001b[0m\n\u001b[0;32m   1171\u001b[0m                                          \u001b[0mos\u001b[0m\u001b[1;33m.\u001b[0m\u001b[0mfspath\u001b[0m\u001b[1;33m(\u001b[0m\u001b[0mcwd\u001b[0m\u001b[1;33m)\u001b[0m \u001b[1;32mif\u001b[0m \u001b[0mcwd\u001b[0m \u001b[1;32mis\u001b[0m \u001b[1;32mnot\u001b[0m \u001b[1;32mNone\u001b[0m \u001b[1;32melse\u001b[0m \u001b[1;32mNone\u001b[0m\u001b[1;33m,\u001b[0m\u001b[1;33m\u001b[0m\u001b[1;33m\u001b[0m\u001b[0m\n\u001b[1;32m-> 1172\u001b[1;33m                                          startupinfo)\n\u001b[0m\u001b[0;32m   1173\u001b[0m             \u001b[1;32mfinally\u001b[0m\u001b[1;33m:\u001b[0m\u001b[1;33m\u001b[0m\u001b[1;33m\u001b[0m\u001b[0m\n\u001b[0;32m   1174\u001b[0m                 \u001b[1;31m# Child is launched. Close the parent's copy of those pipe\u001b[0m\u001b[1;33m\u001b[0m\u001b[1;33m\u001b[0m\u001b[1;33m\u001b[0m\u001b[0m\n",
      "\u001b[1;31mFileNotFoundError\u001b[0m: [WinError 2] The system cannot find the file specified"
     ]
    }
   ],
   "source": [
    "outpath = '../output/'\n",
    "X = np.arange(0, 1.01, 0.05)\n",
    "init_rates = []\n",
    "alldata = pd.DataFrame()\n",
    "for x in X:\n",
    "    if x == 0:\n",
    "        harr_add_time = 0\n",
    "    else:\n",
    "        harr_add_time = 200\n",
    "    outfiles = run_sim(outpath, linux=True, sim_time=300, equil_time=200, harr_add_time=harr_add_time,\n",
    "                           harr_rate=x, cyclo_add_time=200, cyclo_prob=0.5, cyclo_dissoc_rate=0.5,\n",
    "                           outputs=[3], logging=True)\n",
    "    outfile = ''\n",
    "    for fname in outfiles:\n",
    "        if re.search(r'gene_initimes.out', fname):\n",
    "            outfile = fname\n",
    "    if outfile:\n",
    "        data = pd.read_csv(outfile, sep='\\t').dropna()\n",
    "        total = 0\n",
    "        numelems = 0\n",
    "        for i, row in data.iterrows():\n",
    "            total += row['Num_of_events'] * row['Avg_initiation_time(sec)']\n",
    "            numelems += row['Num_of_events']\n",
    "        init_rates.append(total / numelems)\n",
    "        data['HAR rate'] = x\n",
    "        alldata = alldata.append(data)\n",
    "    else:\n",
    "        init_rates.append(-1)"
   ]
  },
  {
   "cell_type": "code",
   "execution_count": 109,
   "metadata": {
    "scrolled": true
   },
   "outputs": [
    {
     "ename": "NameError",
     "evalue": "name 'initrates' is not defined",
     "output_type": "error",
     "traceback": [
      "\u001b[1;31m---------------------------------------------------------------------------\u001b[0m",
      "\u001b[1;31mNameError\u001b[0m                                 Traceback (most recent call last)",
      "\u001b[1;32m<ipython-input-109-d2b171b53795>\u001b[0m in \u001b[0;36m<module>\u001b[1;34m\u001b[0m\n\u001b[1;32m----> 1\u001b[1;33m (sns.lineplot(X, 1 / initrates)\n\u001b[0m\u001b[0;32m      2\u001b[0m .set(xlabel='HAR Rate', ylabel='Initiation rate (ribos / sec)', title='Initiation time versus HAR Rate'))\n",
      "\u001b[1;31mNameError\u001b[0m: name 'initrates' is not defined"
     ]
    }
   ],
   "source": [
    "(sns.lineplot(X, 1 / initrates)\n",
    ".set(xlabel='HAR Rate', ylabel='Initiation rate (RNA / sec)', title='Initiation rate versus HAR Rate'))"
   ]
  },
  {
   "cell_type": "code",
   "execution_count": 162,
   "metadata": {},
   "outputs": [
    {
     "name": "stdout",
     "output_type": "stream",
     "text": [
      "../SMoPT/bin/SMoPT_v2 -Tt 300 -Tb 200 -Th 200 -Tc 200 -R 200000 -t 3300000 -N 4839 -F ../SMoPT/example/input/S.cer.flash-freeze.genom -C ../SMoPT/example/input/S.cer.tRNA -x1 0.5 -x2 0.5 -y 0 -s 1 -O ../output/cp0.5_cdr0.5_hr0.0/cp0.5_cdr0.5_hr0.0 -p3\n",
      "Running Simulation... Runtime: 244 secs\n",
      "Done\n",
      "50.635630849656344\n",
      "../SMoPT/bin/SMoPT_v2 -Tt 300 -Tb 200 -Th 200 -Tc 200 -R 200000 -t 3300000 -N 4839 -F ../SMoPT/example/input/S.cer.flash-freeze.genom -C ../SMoPT/example/input/S.cer.tRNA -x1 0.5 -x2 0.5 -y 0.1 -s 1 -O ../output/cp0.5_cdr0.5_hr0.1/cp0.5_cdr0.5_hr0.1 -p3\n",
      "Running Simulation... Runtime: 244 secs\n",
      "Done\n",
      "51.28866713027994\n",
      "../SMoPT/bin/SMoPT_v2 -Tt 300 -Tb 200 -Th 200 -Tc 200 -R 200000 -t 3300000 -N 4839 -F ../SMoPT/example/input/S.cer.flash-freeze.genom -C ../SMoPT/example/input/S.cer.tRNA -x1 0.5 -x2 0.5 -y 0.5 -s 1 -O ../output/cp0.5_cdr0.5_hr0.5/cp0.5_cdr0.5_hr0.5 -p3\n",
      "Running Simulation... Runtime: 237 secs\n",
      "Done\n",
      "46.6456137920468\n",
      "../SMoPT/bin/SMoPT_v2 -Tt 300 -Tb 200 -Th 200 -Tc 200 -R 200000 -t 3300000 -N 4839 -F ../SMoPT/example/input/S.cer.flash-freeze.genom -C ../SMoPT/example/input/S.cer.tRNA -x1 0.5 -x2 0.5 -y 1 -s 1 -O ../output/cp0.5_cdr0.5_hr1.0/cp0.5_cdr0.5_hr1.0 -p3\n",
      "Running Simulation... Runtime: 259 secs\n",
      "Done\n",
      "45.48499045968751\n",
      "../SMoPT/bin/SMoPT_v2 -Tt 300 -Tb 200 -Th 200 -Tc 200 -R 200000 -t 3300000 -N 4839 -F ../SMoPT/example/input/S.cer.flash-freeze.genom -C ../SMoPT/example/input/S.cer.tRNA -x1 0.5 -x2 0.5 -y 10 -s 1 -O ../output/cp0.5_cdr0.5_hr10.0/cp0.5_cdr0.5_hr10.0 -p3\n",
      "Running Simulation... Runtime: 246 secs\n",
      "Done\n",
      "44.02945297950767\n",
      "../SMoPT/bin/SMoPT_v2 -Tt 300 -Tb 200 -Th 200 -Tc 200 -R 200000 -t 3300000 -N 4839 -F ../SMoPT/example/input/S.cer.flash-freeze.genom -C ../SMoPT/example/input/S.cer.tRNA -x1 0.5 -x2 0.5 -y 100 -s 1 -O ../output/cp0.5_cdr0.5_hr100.0/cp0.5_cdr0.5_hr100.0 -p3\n",
      "Running Simulation... Runtime: 264 secs\n",
      "Done\n",
      "44.36299875874287\n",
      "../SMoPT/bin/SMoPT_v2 -Tt 300 -Tb 200 -Th 200 -Tc 200 -R 200000 -t 3300000 -N 4839 -F ../SMoPT/example/input/S.cer.flash-freeze.genom -C ../SMoPT/example/input/S.cer.tRNA -x1 0.5 -x2 0.5 -y 1000 -s 1 -O ../output/cp0.5_cdr0.5_hr1000.0/cp0.5_cdr0.5_hr1000.0 -p3\n",
      "Running Simulation... Runtime: 535 secs\n",
      "Done\n",
      "44.18660086536442\n"
     ]
    }
   ],
   "source": [
    "alldata_past1 = pd.DataFrame()\n",
    "initrates_past1 = []\n",
    "X = [0, 0.1, 0.5, 1, 10, 100, 1000]\n",
    "for x in X:\n",
    "    outfiles = run_sim(outpath, linux=False, sim_time=300, equil_time=200, harr_add_time=200,\n",
    "                           harr_rate=x, cyclo_add_time=200, cyclo_prob=0.5, cyclo_dissoc_rate=0.5,\n",
    "                           outputs=[3], logging=True)\n",
    "    outfile = ''\n",
    "    for fname in outfiles:\n",
    "        if re.search(r'gene_initimes.out', fname):\n",
    "            outfile = fname\n",
    "    if outfile:\n",
    "        curdata = pd.read_csv(outfile, sep='\\t').dropna()\n",
    "        subset = curdata[curdata['Avg_initiation_time(sec)'] != np.inf]\n",
    "        total = 0\n",
    "        numelems = 0\n",
    "        for i, row in subset.iterrows():\n",
    "            total += row['Num_of_events'] * row['Avg_initiation_time(sec)']\n",
    "            numelems += row['Num_of_events']\n",
    "        print(total / numelems)\n",
    "        initrates_past1.append(total / numelems)\n",
    "        curdata['HAR rate'] = x\n",
    "        alldata_past1 = alldata_past1.append(curdata)\n",
    "    else:\n",
    "        initrates_past1.append(-1)"
   ]
  },
  {
   "cell_type": "code",
   "execution_count": 163,
   "metadata": {},
   "outputs": [
    {
     "data": {
      "text/plain": [
       "<matplotlib.axes._subplots.AxesSubplot at 0x7fc309edf128>"
      ]
     },
     "execution_count": 163,
     "metadata": {},
     "output_type": "execute_result"
    },
    {
     "data": {
      "image/png": "[encoded data removed]",
      "text/plain": [
       "<Figure size 432x288 with 1 Axes>"
      ]
     },
     "metadata": {
      "needs_background": "light"
     },
     "output_type": "display_data"
    }
   ],
   "source": [
    "sns.lineplot(X, initrates_past1)"
   ]
  },
  {
   "cell_type": "code",
   "execution_count": 46,
   "metadata": {},
   "outputs": [
    {
     "data": {
      "image/png": "[encoded data removed]",
      "text/plain": [
       "<Figure size 432x288 with 1 Axes>"
      ]
     },
     "metadata": {
      "needs_background": "light"
     },
     "output_type": "display_data"
    },
    {
     "data": {
      "text/plain": [
       "<matplotlib.axes._subplots.AxesSubplot at 0x7fc3059363c8>"
      ]
     },
     "execution_count": 46,
     "metadata": {},
     "output_type": "execute_result"
    },
    {
     "data": {
      "image/png": "[encoded data removed]",
      "text/plain": [
       "<Figure size 432x288 with 1 Axes>"
      ]
     },
     "metadata": {
      "needs_background": "light"
     },
     "output_type": "display_data"
    }
   ],
   "source": [
    "rates = []\n",
    "rnas = []\n",
    "for rate in alldata['HAR rate'].unique():\n",
    "    sliced = alldata[alldata['HAR rate'] == rate]\n",
    "    rates.append(sliced['Avg_initiation_time(sec)'].mean())\n",
    "    rnas.append(sliced['Num_of_events'].sum())\n",
    "sns.lineplot(X, rates)\n",
    "plt.show()\n",
    "sns.lineplot(X, rnas)"
   ]
  },
  {
   "cell_type": "code",
   "execution_count": null,
   "metadata": {},
   "outputs": [],
   "source": [
    "# Run multiple times and average"
   ]
  },
  {
   "cell_type": "code",
   "execution_count": 96,
   "metadata": {},
   "outputs": [
    {
     "data": {
      "image/png": "[encoded data removed]",
      "text/plain": [
       "<Figure size 720x720 with 1 Axes>"
      ]
     },
     "metadata": {
      "needs_background": "light"
     },
     "output_type": "display_data"
    }
   ],
   "source": [
    "data1 = alldata[alldata['HAR rate'] == 0]\n",
    "data2 = alldata[alldata['HAR rate'] == 0.5]\n",
    "# Create list of genes that are in both HAR rate = 0 and HAR rate = 0.5 data\n",
    "geneint = list(set(data1['Gene']).intersection(set(data2['Gene'])))\n",
    "# Filter data to only include genes in both\n",
    "data1 = data1.loc[geneint]\n",
    "data2 = data2.loc[geneint]\n",
    "# Plot rates against each other\n",
    "x = data1['Avg_initiation_time(sec)']\n",
    "y = data2['Avg_initiation_time(sec)']\n",
    "fig, ax = plt.subplots(figsize=(10, 10))\n",
    "(sns.scatterplot(x, y)\n",
    "    .set(xlabel='Initiation time\\n[HAR rate = 0]', ylabel='[HAR rate = 0.5]\\nInitiation time'))\n",
    "sns.lineplot(np.unique(x), np.poly1d(np.polyfit(x, y, 1))(np.unique(x)), color='red')\n",
    "plt.show()"
   ]
  },
  {
   "cell_type": "code",
   "execution_count": null,
   "metadata": {},
   "outputs": [],
   "source": [
    "# plot har rate 0 twice against itself\n",
    "# 3 aa/s elongation rate 0.04 initiation rate\n"
   ]
  },
  {
   "cell_type": "code",
   "execution_count": null,
   "metadata": {},
   "outputs": [],
   "source": [
    "# Check distribution of infinity\n"
   ]
  },
  {
   "cell_type": "code",
   "execution_count": 165,
   "metadata": {},
   "outputs": [
    {
     "name": "stdout",
     "output_type": "stream",
     "text": [
      "../SMoPT/bin/SMoPT_v2 -Tt 300 -Tb 200 -Th 200 -Tc 200 -R 200000 -t 3300000 -N 4839 -F ../SMoPT/example/input/S.cer.flash-freeze.genom -C ../SMoPT/example/input/S.cer.tRNA -x1 0.5 -x2 0.5 -y 0.0 -s 1 -O ../output/cp0.5_cdr0.5_hr0.0/cp0.5_cdr0.5_hr0.0 -p5\n",
      "Running Simulation... Runtime: 326 secs\n",
      "Done\n",
      "../SMoPT/bin/SMoPT_v2 -Tt 300 -Tb 200 -Th 200 -Tc 200 -R 200000 -t 3300000 -N 4839 -F ../SMoPT/example/input/S.cer.flash-freeze.genom -C ../SMoPT/example/input/S.cer.tRNA -x1 0.5 -x2 0.5 -y 0.1 -s 1 -O ../output/cp0.5_cdr0.5_hr0.1/cp0.5_cdr0.5_hr0.1 -p5\n",
      "Running Simulation... Runtime: 378 secs\n",
      "Done\n",
      "../SMoPT/bin/SMoPT_v2 -Tt 300 -Tb 200 -Th 200 -Tc 200 -R 200000 -t 3300000 -N 4839 -F ../SMoPT/example/input/S.cer.flash-freeze.genom -C ../SMoPT/example/input/S.cer.tRNA -x1 0.5 -x2 0.5 -y 0.2 -s 1 -O ../output/cp0.5_cdr0.5_hr0.2/cp0.5_cdr0.5_hr0.2 -p5\n",
      "Running Simulation... Runtime: 344 secs\n",
      "Done\n",
      "../SMoPT/bin/SMoPT_v2 -Tt 300 -Tb 200 -Th 200 -Tc 200 -R 200000 -t 3300000 -N 4839 -F ../SMoPT/example/input/S.cer.flash-freeze.genom -C ../SMoPT/example/input/S.cer.tRNA -x1 0.5 -x2 0.5 -y 0.30000000000000004 -s 1 -O ../output/cp0.5_cdr0.5_hr0.30000000000000004/cp0.5_cdr0.5_hr0.30000000000000004 -p5\n",
      "Running Simulation... Runtime: 319 secs\n",
      "Done\n",
      "../SMoPT/bin/SMoPT_v2 -Tt 300 -Tb 200 -Th 200 -Tc 200 -R 200000 -t 3300000 -N 4839 -F ../SMoPT/example/input/S.cer.flash-freeze.genom -C ../SMoPT/example/input/S.cer.tRNA -x1 0.5 -x2 0.5 -y 0.4 -s 1 -O ../output/cp0.5_cdr0.5_hr0.4/cp0.5_cdr0.5_hr0.4 -p5\n",
      "Running Simulation... Runtime: 292 secs\n",
      "Done\n",
      "../SMoPT/bin/SMoPT_v2 -Tt 300 -Tb 200 -Th 200 -Tc 200 -R 200000 -t 3300000 -N 4839 -F ../SMoPT/example/input/S.cer.flash-freeze.genom -C ../SMoPT/example/input/S.cer.tRNA -x1 0.5 -x2 0.5 -y 0.5 -s 1 -O ../output/cp0.5_cdr0.5_hr0.5/cp0.5_cdr0.5_hr0.5 -p5\n",
      "Running Simulation... Runtime: 244 secs\n",
      "Done\n",
      "../SMoPT/bin/SMoPT_v2 -Tt 300 -Tb 200 -Th 200 -Tc 200 -R 200000 -t 3300000 -N 4839 -F ../SMoPT/example/input/S.cer.flash-freeze.genom -C ../SMoPT/example/input/S.cer.tRNA -x1 0.5 -x2 0.5 -y 0.6000000000000001 -s 1 -O ../output/cp0.5_cdr0.5_hr0.6000000000000001/cp0.5_cdr0.5_hr0.6000000000000001 -p5\n",
      "Running Simulation... Runtime: 238 secs\n",
      "Done\n",
      "../SMoPT/bin/SMoPT_v2 -Tt 300 -Tb 200 -Th 200 -Tc 200 -R 200000 -t 3300000 -N 4839 -F ../SMoPT/example/input/S.cer.flash-freeze.genom -C ../SMoPT/example/input/S.cer.tRNA -x1 0.5 -x2 0.5 -y 0.7000000000000001 -s 1 -O ../output/cp0.5_cdr0.5_hr0.7000000000000001/cp0.5_cdr0.5_hr0.7000000000000001 -p5\n",
      "Running Simulation... Runtime: 258 secs\n",
      "Done\n",
      "../SMoPT/bin/SMoPT_v2 -Tt 300 -Tb 200 -Th 200 -Tc 200 -R 200000 -t 3300000 -N 4839 -F ../SMoPT/example/input/S.cer.flash-freeze.genom -C ../SMoPT/example/input/S.cer.tRNA -x1 0.5 -x2 0.5 -y 0.8 -s 1 -O ../output/cp0.5_cdr0.5_hr0.8/cp0.5_cdr0.5_hr0.8 -p5\n",
      "Running Simulation... Runtime: 245 secs\n",
      "Done\n",
      "../SMoPT/bin/SMoPT_v2 -Tt 300 -Tb 200 -Th 200 -Tc 200 -R 200000 -t 3300000 -N 4839 -F ../SMoPT/example/input/S.cer.flash-freeze.genom -C ../SMoPT/example/input/S.cer.tRNA -x1 0.5 -x2 0.5 -y 0.9 -s 1 -O ../output/cp0.5_cdr0.5_hr0.9/cp0.5_cdr0.5_hr0.9 -p5\n",
      "Running Simulation... Runtime: 253 secs\n",
      "Done\n"
     ]
    }
   ],
   "source": [
    "X = np.arange(0, 1, 0.1)\n",
    "data = []\n",
    "for x in X:\n",
    "    outfiles = run_sim(outpath, linux=False, sim_time=300, equil_time=200, harr_add_time=200,\n",
    "                           harr_rate=x, cyclo_add_time=200, cyclo_prob=0.5, cyclo_dissoc_rate=0.5,\n",
    "                           outputs=[5], logging=True)\n",
    "    outfile = ''\n",
    "    for fname in outfiles:\n",
    "        if re.search(r'final_ribo_pos.out', fname):\n",
    "            outfile = fname\n",
    "    data.append(read_p5(outfile))"
   ]
  },
  {
   "cell_type": "code",
   "execution_count": 166,
   "metadata": {},
   "outputs": [
    {
     "data": {
      "text/plain": [
       "[array([ 229., 1337., 1267., ...,    0.,    0.,    0.]),\n",
       " array([46059.,   174.,   185., ...,     0.,     0.,     0.]),\n",
       " array([49501.,   109.,    99., ...,     0.,     0.,     0.]),\n",
       " array([50762.,    88.,    82., ...,     0.,     0.,     0.]),\n",
       " array([51418.,    92.,    62., ...,     0.,     0.,     0.]),\n",
       " array([51786.,    82.,    66., ...,     0.,     0.,     0.]),\n",
       " array([52048.,    81.,    71., ...,     0.,     0.,     0.]),\n",
       " array([5.2265e+04, 6.7000e+01, 4.9000e+01, ..., 0.0000e+00, 0.0000e+00,\n",
       "        0.0000e+00]),\n",
       " array([52385.,    65.,    58., ...,     0.,     0.,     0.]),\n",
       " array([52554.,    72.,    61., ...,     0.,     0.,     0.])]"
      ]
     },
     "execution_count": 166,
     "metadata": {},
     "output_type": "execute_result"
    }
   ],
   "source": [
    "data"
   ]
  },
  {
   "cell_type": "code",
   "execution_count": null,
   "metadata": {},
   "outputs": [],
   "source": [
    "def simulate_cell(init_rate, elon_rate):\n",
    "    coefs = pd.read_csv('../config/elon_rate_coefs.csv', header=None)[1].values"
   ]
  }
 ],
 "metadata": {
  "kernelspec": {
   "display_name": "Python 3",
   "language": "python",
   "name": "python3"
  },
  "language_info": {
   "codemirror_mode": {
    "name": "ipython",
    "version": 3
   },
   "file_extension": ".py",
   "mimetype": "text/x-python",
   "name": "python",
   "nbconvert_exporter": "python",
   "pygments_lexer": "ipython3",
   "version": "3.7.1"
  }
 },
 "nbformat": 4,
 "nbformat_minor": 2
}
